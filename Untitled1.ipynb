{
 "cells": [
  {
   "cell_type": "code",
   "execution_count": 3,
   "id": "903cf1ba",
   "metadata": {},
   "outputs": [
    {
     "name": "stdout",
     "output_type": "stream",
     "text": [
      "This is my first python program\n"
     ]
    }
   ],
   "source": [
    "print(\"This is my first python program\")"
   ]
  },
  {
   "cell_type": "code",
   "execution_count": 5,
   "id": "496ee01d",
   "metadata": {},
   "outputs": [],
   "source": [
    "# This line will not be executed ----- my name is anil"
   ]
  },
  {
   "cell_type": "code",
   "execution_count": 6,
   "id": "cab30fe9",
   "metadata": {},
   "outputs": [
    {
     "data": {
      "text/plain": [
       "'afhf\\nasdfhasdf\\nasdfa;sdfa\\ndfasdfas\\nasdfahsdf\\nasdfhasdhf\\na'"
      ]
     },
     "execution_count": 6,
     "metadata": {},
     "output_type": "execute_result"
    }
   ],
   "source": [
    "\"\"\"afhf\n",
    "asdfhasdf\n",
    "asdfa;sdfa\n",
    "dfasdfas\n",
    "asdfahsdf\n",
    "asdfhasdhf\n",
    "a\"\"\""
   ]
  },
  {
   "cell_type": "code",
   "execution_count": 8,
   "id": "033ea3dc",
   "metadata": {},
   "outputs": [
    {
     "data": {
      "text/plain": [
       "'print(\"anil\")\\nprint(\"naga\")\\nprint(\"sai\")'"
      ]
     },
     "execution_count": 8,
     "metadata": {},
     "output_type": "execute_result"
    }
   ],
   "source": [
    "\"\"\"print(\"anil\")\n",
    "print(\"naga\")\n",
    "print(\"sai\")\"\"\""
   ]
  },
  {
   "cell_type": "code",
   "execution_count": 9,
   "id": "ada6c445",
   "metadata": {},
   "outputs": [],
   "source": [
    "a= 10"
   ]
  },
  {
   "cell_type": "code",
   "execution_count": 10,
   "id": "5f6c208a",
   "metadata": {},
   "outputs": [
    {
     "data": {
      "text/plain": [
       "10"
      ]
     },
     "execution_count": 10,
     "metadata": {},
     "output_type": "execute_result"
    }
   ],
   "source": [
    "a"
   ]
  },
  {
   "cell_type": "code",
   "execution_count": 11,
   "id": "38f90e84",
   "metadata": {},
   "outputs": [
    {
     "data": {
      "text/plain": [
       "int"
      ]
     },
     "execution_count": 11,
     "metadata": {},
     "output_type": "execute_result"
    }
   ],
   "source": [
    "type(a)"
   ]
  },
  {
   "cell_type": "code",
   "execution_count": 13,
   "id": "142c954e",
   "metadata": {},
   "outputs": [
    {
     "data": {
      "text/plain": [
       "'anil is my name.'"
      ]
     },
     "execution_count": 13,
     "metadata": {},
     "output_type": "execute_result"
    }
   ],
   "source": [
    "b = \"anil is my name.\"\n",
    "b"
   ]
  },
  {
   "cell_type": "code",
   "execution_count": 14,
   "id": "a1a9e628",
   "metadata": {},
   "outputs": [
    {
     "data": {
      "text/plain": [
       "str"
      ]
     },
     "execution_count": 14,
     "metadata": {},
     "output_type": "execute_result"
    }
   ],
   "source": [
    "type(b)"
   ]
  },
  {
   "cell_type": "code",
   "execution_count": 15,
   "id": "eb76eaac",
   "metadata": {},
   "outputs": [
    {
     "name": "stdout",
     "output_type": "stream",
     "text": [
      "10 anil is my name.\n"
     ]
    }
   ],
   "source": [
    "print(a,b)"
   ]
  },
  {
   "cell_type": "code",
   "execution_count": 16,
   "id": "7db87940",
   "metadata": {},
   "outputs": [
    {
     "data": {
      "text/plain": [
       "(34, 'anil', True)"
      ]
     },
     "execution_count": 16,
     "metadata": {},
     "output_type": "execute_result"
    }
   ],
   "source": [
    "a,b,c = 34, \"anil\", True\n",
    "a,b,c"
   ]
  },
  {
   "cell_type": "code",
   "execution_count": 17,
   "id": "0004d377",
   "metadata": {},
   "outputs": [
    {
     "name": "stdout",
     "output_type": "stream",
     "text": [
      "34 anil True\n"
     ]
    }
   ],
   "source": [
    "print(a,b,c)"
   ]
  },
  {
   "cell_type": "code",
   "execution_count": 18,
   "id": "5bc30c54",
   "metadata": {},
   "outputs": [
    {
     "name": "stdout",
     "output_type": "stream",
     "text": [
      "True\n"
     ]
    }
   ],
   "source": [
    "print(True)"
   ]
  },
  {
   "cell_type": "code",
   "execution_count": 24,
   "id": "213ebd2f",
   "metadata": {},
   "outputs": [
    {
     "name": "stdout",
     "output_type": "stream",
     "text": [
      "0\n"
     ]
    }
   ],
   "source": [
    "print(False + False)\n"
   ]
  },
  {
   "cell_type": "code",
   "execution_count": 25,
   "id": "6731be60",
   "metadata": {},
   "outputs": [
    {
     "name": "stdout",
     "output_type": "stream",
     "text": [
      "4\n"
     ]
    }
   ],
   "source": [
    "print(True+ True + True + True)"
   ]
  },
  {
   "cell_type": "code",
   "execution_count": 26,
   "id": "0588e8d0",
   "metadata": {},
   "outputs": [
    {
     "ename": "ZeroDivisionError",
     "evalue": "division by zero",
     "output_type": "error",
     "traceback": [
      "\u001b[1;31m---------------------------------------------------------------------------\u001b[0m",
      "\u001b[1;31mZeroDivisionError\u001b[0m                         Traceback (most recent call last)",
      "\u001b[1;32m~\\AppData\\Local\\Temp/ipykernel_15100/2794436645.py\u001b[0m in \u001b[0;36m<module>\u001b[1;34m\u001b[0m\n\u001b[1;32m----> 1\u001b[1;33m \u001b[1;32mTrue\u001b[0m\u001b[1;33m/\u001b[0m\u001b[1;32mFalse\u001b[0m\u001b[1;33m\u001b[0m\u001b[1;33m\u001b[0m\u001b[0m\n\u001b[0m",
      "\u001b[1;31mZeroDivisionError\u001b[0m: division by zero"
     ]
    }
   ],
   "source": [
    "True/False"
   ]
  },
  {
   "cell_type": "code",
   "execution_count": 27,
   "id": "d3d6ae4f",
   "metadata": {},
   "outputs": [
    {
     "data": {
      "text/plain": [
       "complex"
      ]
     },
     "execution_count": 27,
     "metadata": {},
     "output_type": "execute_result"
    }
   ],
   "source": [
    "n = 45 +6j\n",
    "type(n)"
   ]
  },
  {
   "cell_type": "code",
   "execution_count": 28,
   "id": "981dbc54",
   "metadata": {},
   "outputs": [
    {
     "data": {
      "text/plain": [
       "'anilanilanil'"
      ]
     },
     "execution_count": 28,
     "metadata": {},
     "output_type": "execute_result"
    }
   ],
   "source": [
    "\"anil\" + \"anil\"+ \"anil\""
   ]
  },
  {
   "cell_type": "code",
   "execution_count": 29,
   "id": "ea4b3a4e",
   "metadata": {},
   "outputs": [
    {
     "data": {
      "text/plain": [
       "'anilanilanil'"
      ]
     },
     "execution_count": 29,
     "metadata": {},
     "output_type": "execute_result"
    }
   ],
   "source": [
    "\"anil\"*3"
   ]
  },
  {
   "cell_type": "code",
   "execution_count": 30,
   "id": "c789ce74",
   "metadata": {},
   "outputs": [
    {
     "ename": "TypeError",
     "evalue": "can't multiply sequence by non-int of type 'str'",
     "output_type": "error",
     "traceback": [
      "\u001b[1;31m---------------------------------------------------------------------------\u001b[0m",
      "\u001b[1;31mTypeError\u001b[0m                                 Traceback (most recent call last)",
      "\u001b[1;32m~\\AppData\\Local\\Temp/ipykernel_15100/3419611013.py\u001b[0m in \u001b[0;36m<module>\u001b[1;34m\u001b[0m\n\u001b[1;32m----> 1\u001b[1;33m \u001b[1;34m\"anl\"\u001b[0m\u001b[1;33m*\u001b[0m\u001b[1;34m\"anil\"\u001b[0m\u001b[1;33m\u001b[0m\u001b[1;33m\u001b[0m\u001b[0m\n\u001b[0m",
      "\u001b[1;31mTypeError\u001b[0m: can't multiply sequence by non-int of type 'str'"
     ]
    }
   ],
   "source": [
    "\"anl\"*\"anil\""
   ]
  },
  {
   "cell_type": "code",
   "execution_count": 32,
   "id": "797fd194",
   "metadata": {},
   "outputs": [
    {
     "name": "stdout",
     "output_type": "stream",
     "text": [
      "enter the num :10\n",
      "10\n"
     ]
    }
   ],
   "source": [
    "a = input(\"enter the num :\")\n",
    "print(a)"
   ]
  },
  {
   "cell_type": "code",
   "execution_count": 33,
   "id": "84b665e7",
   "metadata": {},
   "outputs": [
    {
     "name": "stdout",
     "output_type": "stream",
     "text": [
      "enter the value of a:10\n",
      "enter the value of b:20\n",
      "enter the value of c:30\n",
      "(46+5j)anil\n"
     ]
    }
   ],
   "source": [
    "a,b,c = int(input(\"enter the value of a:\")),int(input(\"enter the value of b:\")),int(input(\"enter the value of c:\"))\n",
    "O = (a+b)/c\n",
    "O1 = O + 45+5j\n",
    "print(str(O1) +\"anil\")"
   ]
  },
  {
   "cell_type": "code",
   "execution_count": 38,
   "id": "2bd191ab",
   "metadata": {},
   "outputs": [
    {
     "name": "stdout",
     "output_type": "stream",
     "text": [
      "10\n"
     ]
    }
   ],
   "source": [
    "a = 10\n",
    "if a< 11:\n",
    "    pass\n",
    "elif a > 5:\n",
    "    print(a)\n",
    "print(a)"
   ]
  },
  {
   "cell_type": "code",
   "execution_count": 39,
   "id": "a1283c60",
   "metadata": {},
   "outputs": [
    {
     "name": "stdout",
     "output_type": "stream",
     "text": [
      "enter the integer number > 3526\n",
      "the number is not >35\n"
     ]
    }
   ],
   "source": [
    "a = int(input(\"enter the integer number > 35\"))\n",
    "if a < 35:\n",
    "    print(\"the number is not >35\")\n",
    "else:\n",
    "    print(\"the number is > 35\")"
   ]
  },
  {
   "cell_type": "code",
   "execution_count": 40,
   "id": "8698afab",
   "metadata": {},
   "outputs": [
    {
     "name": "stdout",
     "output_type": "stream",
     "text": [
      "enter the salary:100\n",
      "i will buy a normal car \n"
     ]
    }
   ],
   "source": [
    "salary = int(input(\"enter the salary:\"))\n",
    "\n",
    "if 1:\n",
    "    print(\"i will buy a normal car \")\n",
    "elif salary > 5000:\n",
    "    print(\"i will bu a \")"
   ]
  },
  {
   "cell_type": "code",
   "execution_count": null,
   "id": "6eb64d34",
   "metadata": {},
   "outputs": [],
   "source": []
  }
 ],
 "metadata": {
  "kernelspec": {
   "display_name": "Python 3 (ipykernel)",
   "language": "python",
   "name": "python3"
  },
  "language_info": {
   "codemirror_mode": {
    "name": "ipython",
    "version": 3
   },
   "file_extension": ".py",
   "mimetype": "text/x-python",
   "name": "python",
   "nbconvert_exporter": "python",
   "pygments_lexer": "ipython3",
   "version": "3.9.7"
  }
 },
 "nbformat": 4,
 "nbformat_minor": 5
}
