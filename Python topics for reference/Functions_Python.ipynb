{
 "cells": [
  {
   "cell_type": "code",
   "execution_count": 1,
   "id": "0f6cd4c7",
   "metadata": {},
   "outputs": [
    {
     "data": {
      "text/plain": [
       "3"
      ]
     },
     "execution_count": 1,
     "metadata": {},
     "output_type": "execute_result"
    }
   ],
   "source": [
    "a = 1 \n",
    "b = 2\n",
    "a+b"
   ]
  },
  {
   "cell_type": "code",
   "execution_count": 7,
   "id": "f59e1394",
   "metadata": {},
   "outputs": [
    {
     "data": {
      "text/plain": [
       "3"
      ]
     },
     "execution_count": 7,
     "metadata": {},
     "output_type": "execute_result"
    }
   ],
   "source": [
    "def add(a,b):\n",
    "    c = a+b\n",
    "    return c\n",
    "add(1,2)"
   ]
  },
  {
   "cell_type": "code",
   "execution_count": 3,
   "id": "a0020c03",
   "metadata": {},
   "outputs": [
    {
     "data": {
      "text/plain": [
       "<function __main__.add(a, b)>"
      ]
     },
     "execution_count": 3,
     "metadata": {},
     "output_type": "execute_result"
    }
   ],
   "source": [
    "add"
   ]
  },
  {
   "cell_type": "code",
   "execution_count": 4,
   "id": "eddf7857",
   "metadata": {},
   "outputs": [],
   "source": [
    "def sub(x,y):\n",
    "    pass"
   ]
  },
  {
   "cell_type": "code",
   "execution_count": 11,
   "id": "66268dbe",
   "metadata": {},
   "outputs": [
    {
     "name": "stdout",
     "output_type": "stream",
     "text": [
      "(20, 6, 5, -1)\n"
     ]
    },
    {
     "data": {
      "text/plain": [
       "tuple"
      ]
     },
     "execution_count": 11,
     "metadata": {},
     "output_type": "execute_result"
    }
   ],
   "source": [
    "def test1(n,m):\n",
    "    return n*10, m*2,n+m,n-m\n",
    "print(test1(2,3))\n",
    "type(test1(2,3))"
   ]
  },
  {
   "cell_type": "code",
   "execution_count": 14,
   "id": "b3a449a8",
   "metadata": {},
   "outputs": [
    {
     "name": "stdout",
     "output_type": "stream",
     "text": [
      "20\n",
      "6\n",
      "5\n",
      "-1\n"
     ]
    }
   ],
   "source": [
    "def test1(n,m):\n",
    "    return n*10, m*2,n+m,n-m\n",
    "a,b,c,d = test1(2,3)\n",
    "print(a)\n",
    "print(b)\n",
    "print(c)\n",
    "print(d)"
   ]
  },
  {
   "cell_type": "code",
   "execution_count": 15,
   "id": "f12a95dc",
   "metadata": {},
   "outputs": [
    {
     "name": "stdout",
     "output_type": "stream",
     "text": [
      "23\n"
     ]
    }
   ],
   "source": [
    "_ = 23\n",
    "print(_)"
   ]
  },
  {
   "cell_type": "code",
   "execution_count": 16,
   "id": "b045fb8f",
   "metadata": {},
   "outputs": [
    {
     "name": "stdout",
     "output_type": "stream",
     "text": [
      "20\n",
      "6\n",
      "5\n",
      "-1\n"
     ]
    }
   ],
   "source": [
    "a,b,_,d = test1(2,3)\n",
    "print(a)\n",
    "print(b)\n",
    "print(_)\n",
    "print(d)"
   ]
  },
  {
   "cell_type": "code",
   "execution_count": 18,
   "id": "24443293",
   "metadata": {},
   "outputs": [
    {
     "data": {
      "text/plain": [
       "[1, 23, 4, 1, 23, 4]"
      ]
     },
     "execution_count": 18,
     "metadata": {},
     "output_type": "execute_result"
    }
   ],
   "source": [
    "def test2(n):\n",
    "    return n*2\n",
    "test2([1,23,4])"
   ]
  },
  {
   "cell_type": "code",
   "execution_count": 19,
   "id": "a1d97f34",
   "metadata": {},
   "outputs": [
    {
     "data": {
      "text/plain": [
       "68"
      ]
     },
     "execution_count": 19,
     "metadata": {},
     "output_type": "execute_result"
    }
   ],
   "source": [
    "test2(34)"
   ]
  },
  {
   "cell_type": "code",
   "execution_count": 21,
   "id": "e2c30ff1",
   "metadata": {},
   "outputs": [
    {
     "data": {
      "text/plain": [
       "30"
      ]
     },
     "execution_count": 21,
     "metadata": {},
     "output_type": "execute_result"
    }
   ],
   "source": [
    "def test2(n=5, m =10):\n",
    "    return n+m\n",
    "test2(20)"
   ]
  },
  {
   "cell_type": "code",
   "execution_count": 22,
   "id": "799f684a",
   "metadata": {},
   "outputs": [
    {
     "data": {
      "text/plain": [
       "('a', 1, 2, 3, [23, 234, 'ans'])"
      ]
     },
     "execution_count": 22,
     "metadata": {},
     "output_type": "execute_result"
    }
   ],
   "source": [
    "def test3(*args, a = \"ani\"):\n",
    "    return(args)\n",
    "test3(\"a\",1,2,3,[23,234,\"ans\"])"
   ]
  },
  {
   "cell_type": "markdown",
   "id": "07f585be",
   "metadata": {},
   "source": [
    "Q : create a function which takes multiple list as arguments and retrun the concatenation of all those lists as one list "
   ]
  },
  {
   "cell_type": "code",
   "execution_count": 38,
   "id": "78bb1f51",
   "metadata": {},
   "outputs": [
    {
     "data": {
      "text/plain": [
       "[2, 342, 343, 343, 343, 56]"
      ]
     },
     "execution_count": 38,
     "metadata": {},
     "output_type": "execute_result"
    }
   ],
   "source": [
    "def test4(*args):\n",
    "    l = []\n",
    "    for i in args:\n",
    "        l = l+i\n",
    "#         for j in i:\n",
    "#             l.append(j)\n",
    "\n",
    "    return l\n",
    "test4([2,342], [343,343],[343,56])"
   ]
  },
  {
   "cell_type": "code",
   "execution_count": 67,
   "id": "3683c816",
   "metadata": {},
   "outputs": [
    {
     "data": {
      "text/plain": [
       "([2, 342], [343, 343], [343, 56], {1: 'anil', 2: 'sai'})"
      ]
     },
     "execution_count": 67,
     "metadata": {},
     "output_type": "execute_result"
    }
   ],
   "source": [
    "def test5(*args):\n",
    "    return args\n",
    "test5([2,342], [343,343],[343,56],{1 : \"anil\",2:\"sai\"})"
   ]
  },
  {
   "cell_type": "code",
   "execution_count": 42,
   "id": "da9c6ad9",
   "metadata": {},
   "outputs": [
    {
     "data": {
      "text/plain": [
       "{'a': 'anil', 'b': 12, 'c': True}"
      ]
     },
     "execution_count": 42,
     "metadata": {},
     "output_type": "execute_result"
    }
   ],
   "source": [
    "def test6(**kwargs):\n",
    "    return kwargs\n",
    "test6(a = \"anil\", b = 12, c = True)"
   ]
  },
  {
   "cell_type": "markdown",
   "id": "e1de20d7",
   "metadata": {},
   "source": [
    "Q : \n",
    "----> create a function to take any = no.of a mixed data and try to create a list of seperate data based on data type and return multiple result.\n",
    "\n",
    "-----> create a function which be able to use *args and *kwargs and it will be able to do all the list value concatenation and return a list."
   ]
  },
  {
   "cell_type": "code",
   "execution_count": 48,
   "id": "f5c9575e",
   "metadata": {},
   "outputs": [
    {
     "data": {
      "text/plain": [
       "([12, 122],\n",
       " ['anil', 'ans'],\n",
       " [(23, 'anil'), (54, 4534)],\n",
       " [12.423, 32, 323],\n",
       " [{1, 2, 23}],\n",
       " {'a': 'anil', 'b': 'san'})"
      ]
     },
     "execution_count": 48,
     "metadata": {},
     "output_type": "execute_result"
    }
   ],
   "source": [
    "def sample(*args, **kwargs):\n",
    "    l1,l2,l3,l4,l5,l6,l7=[],[],[],[],[],[],[]\n",
    "    for i in args:\n",
    "        if type(i)== int:\n",
    "            l1.append(i)\n",
    "        elif type(i) == str:\n",
    "            l2.append(i)\n",
    "        elif type(i) == tuple:\n",
    "            l3.append(i)\n",
    "        elif type(i) == list:\n",
    "            l4 = l4 + i\n",
    "        elif type(i) == set:\n",
    "            l5.append(i)\n",
    "     \n",
    "    return l1,l2,l3,l4,l5,kwargs\n",
    "sample(12,122,\"anil\",\"ans\",(23,\"anil\"),[12.423,32,323],(54,4534),{1,23,2},a = \"anil\", b = \"san\",)\n",
    "        \n",
    "    "
   ]
  },
  {
   "cell_type": "code",
   "execution_count": 64,
   "id": "b048174a",
   "metadata": {},
   "outputs": [
    {
     "name": "stdout",
     "output_type": "stream",
     "text": [
      "{'a': 21, 'b': [1, 2, 3, 32]}\n"
     ]
    },
    {
     "data": {
      "text/plain": [
       "([12, 21, 'anil', [12, 32, 53]], [[1, 2, 3, 32]])"
      ]
     },
     "execution_count": 64,
     "metadata": {},
     "output_type": "execute_result"
    }
   ],
   "source": [
    "def sample2(*args, **kwargs):\n",
    "    l = []\n",
    "    for i in args:\n",
    "        l.append(i)\n",
    "       \n",
    "    print(kwargs)\n",
    "    d = [   i       for i in kwargs.values() if type(i) == list]\n",
    "    return l, d\n",
    "#     for i in kwargs:\n",
    "#         if type(kwargs[i])==list:\n",
    "#             l.append(kwargs[i])\n",
    "#     return l\n",
    "sample2(12,21,\"anil\",[12,32,53],a = 21, b =[1,2,3,32])"
   ]
  },
  {
   "cell_type": "code",
   "execution_count": 65,
   "id": "c2202490",
   "metadata": {},
   "outputs": [
    {
     "ename": "SyntaxError",
     "evalue": "invalid syntax (Temp/ipykernel_4436/1060916288.py, line 1)",
     "output_type": "error",
     "traceback": [
      "\u001b[1;36m  File \u001b[1;32m\"C:\\Users\\anils\\AppData\\Local\\Temp/ipykernel_4436/1060916288.py\"\u001b[1;36m, line \u001b[1;32m1\u001b[0m\n\u001b[1;33m    d ={123 = \"anil\"}\u001b[0m\n\u001b[1;37m            ^\u001b[0m\n\u001b[1;31mSyntaxError\u001b[0m\u001b[1;31m:\u001b[0m invalid syntax\n"
     ]
    }
   ],
   "source": [
    "d ={123 : \"anil\"}\n",
    "d[\"name\"]."
   ]
  },
  {
   "cell_type": "code",
   "execution_count": 73,
   "id": "b4511b7c",
   "metadata": {},
   "outputs": [
    {
     "ename": "TypeError",
     "evalue": "sam() got an unexpected keyword argument 'a'",
     "output_type": "error",
     "traceback": [
      "\u001b[1;31m---------------------------------------------------------------------------\u001b[0m",
      "\u001b[1;31mTypeError\u001b[0m                                 Traceback (most recent call last)",
      "\u001b[1;32m~\\AppData\\Local\\Temp/ipykernel_4436/1350991319.py\u001b[0m in \u001b[0;36m<module>\u001b[1;34m\u001b[0m\n\u001b[0;32m      2\u001b[0m     \u001b[1;32mreturn\u001b[0m \u001b[0margs\u001b[0m\u001b[1;33m\u001b[0m\u001b[1;33m\u001b[0m\u001b[0m\n\u001b[0;32m      3\u001b[0m \u001b[1;33m\u001b[0m\u001b[0m\n\u001b[1;32m----> 4\u001b[1;33m \u001b[0msam\u001b[0m\u001b[1;33m(\u001b[0m\u001b[1;36m1\u001b[0m\u001b[1;33m,\u001b[0m\u001b[1;36m2\u001b[0m\u001b[1;33m,\u001b[0m\u001b[1;36m3\u001b[0m\u001b[1;33m,\u001b[0m\u001b[1;36m4\u001b[0m\u001b[1;33m,\u001b[0m \u001b[0ma\u001b[0m\u001b[1;33m=\u001b[0m \u001b[1;36m10\u001b[0m\u001b[1;33m,\u001b[0m\u001b[0mb\u001b[0m\u001b[1;33m=\u001b[0m\u001b[1;36m20\u001b[0m\u001b[1;33m)\u001b[0m\u001b[1;33m\u001b[0m\u001b[1;33m\u001b[0m\u001b[0m\n\u001b[0m",
      "\u001b[1;31mTypeError\u001b[0m: sam() got an unexpected keyword argument 'a'"
     ]
    }
   ],
   "source": [
    "def sam(*args):\n",
    "    return args\n",
    "\n",
    "sam(1,2,3,4, a= 10,b=20)\n"
   ]
  },
  {
   "cell_type": "code",
   "execution_count": 74,
   "id": "1eacb101",
   "metadata": {},
   "outputs": [
    {
     "data": {
      "text/plain": [
       "('ans@gmail.com', 'anil')"
      ]
     },
     "execution_count": 74,
     "metadata": {},
     "output_type": "execute_result"
    }
   ],
   "source": [
    "def test(name, mail_id):\n",
    "    return mail_id, name\n",
    "test(\"anil\",\"ans@gmail.com\")"
   ]
  },
  {
   "cell_type": "code",
   "execution_count": 2,
   "id": "928dca55",
   "metadata": {},
   "outputs": [
    {
     "data": {
      "text/plain": [
       "30"
      ]
     },
     "execution_count": 2,
     "metadata": {},
     "output_type": "execute_result"
    }
   ],
   "source": [
    "a = 10\n",
    "b = 20\n",
    "\n",
    "def add(a, b):\n",
    "    c = a + b\n",
    "    return c\n",
    "add(a,b)"
   ]
  },
  {
   "cell_type": "code",
   "execution_count": 3,
   "id": "f66e1ed1",
   "metadata": {},
   "outputs": [
    {
     "data": {
      "text/plain": [
       "30"
      ]
     },
     "execution_count": 3,
     "metadata": {},
     "output_type": "execute_result"
    }
   ],
   "source": [
    "c = lambda x,y : x+y\n",
    "\n",
    "c(a,b)"
   ]
  },
  {
   "cell_type": "code",
   "execution_count": 5,
   "id": "0235abe6",
   "metadata": {},
   "outputs": [
    {
     "data": {
      "text/plain": [
       "[1, 34, 53, 'anil']"
      ]
     },
     "execution_count": 5,
     "metadata": {},
     "output_type": "execute_result"
    }
   ],
   "source": [
    "m = lambda *args : [i for i in args]\n",
    "m(1,34,53,\"anil\")"
   ]
  },
  {
   "cell_type": "code",
   "execution_count": 7,
   "id": "86c0c86c",
   "metadata": {},
   "outputs": [
    {
     "name": "stdout",
     "output_type": "stream",
     "text": [
      "1.0\n"
     ]
    },
    {
     "data": {
      "text/plain": [
       "<function print>"
      ]
     },
     "execution_count": 7,
     "metadata": {},
     "output_type": "execute_result"
    }
   ],
   "source": [
    "r = 10 # global variable\n",
    "def test7(a,b):\n",
    "    \n",
    "    \"\"\"\n",
    "    THis is a function which we are created to perform \n",
    "    some divisio task.\n",
    "    \n",
    "    \"\"\"\n",
    "    r = a/b # local varible \n",
    "    print(r)\n",
    "test7(10,10)\n"
   ]
  },
  {
   "cell_type": "code",
   "execution_count": 8,
   "id": "173f9ad8",
   "metadata": {},
   "outputs": [
    {
     "name": "stdout",
     "output_type": "stream",
     "text": [
      "Help on built-in function print in module builtins:\n",
      "\n",
      "print(...)\n",
      "    print(value, ..., sep=' ', end='\\n', file=sys.stdout, flush=False)\n",
      "    \n",
      "    Prints the values to a stream, or to sys.stdout by default.\n",
      "    Optional keyword arguments:\n",
      "    file:  a file-like object (stream); defaults to the current sys.stdout.\n",
      "    sep:   string inserted between values, default a space.\n",
      "    end:   string appended after the last value, default a newline.\n",
      "    flush: whether to forcibly flush the stream.\n",
      "\n"
     ]
    }
   ],
   "source": [
    "help(print)"
   ]
  },
  {
   "cell_type": "code",
   "execution_count": 9,
   "id": "a04c5ef4",
   "metadata": {},
   "outputs": [
    {
     "name": "stdout",
     "output_type": "stream",
     "text": [
      "Help on function test7 in module __main__:\n",
      "\n",
      "test7(a, b)\n",
      "    THis is a function which we are created to perform \n",
      "    some divisio task.\n",
      "\n"
     ]
    }
   ],
   "source": [
    "help(test7)"
   ]
  },
  {
   "cell_type": "code",
   "execution_count": 11,
   "id": "bd5c55ea",
   "metadata": {},
   "outputs": [
    {
     "data": {
      "text/plain": [
       "4"
      ]
     },
     "execution_count": 11,
     "metadata": {},
     "output_type": "execute_result"
    }
   ],
   "source": [
    "l = [1,2,3,4]\n",
    "l[-1]"
   ]
  },
  {
   "cell_type": "code",
   "execution_count": 12,
   "id": "b4b5f128",
   "metadata": {},
   "outputs": [
    {
     "ename": "TypeError",
     "evalue": "'int' object is not iterable",
     "output_type": "error",
     "traceback": [
      "\u001b[1;31m---------------------------------------------------------------------------\u001b[0m",
      "\u001b[1;31mTypeError\u001b[0m                                 Traceback (most recent call last)",
      "\u001b[1;32m~\\AppData\\Local\\Temp/ipykernel_8092/676487075.py\u001b[0m in \u001b[0;36m<module>\u001b[1;34m\u001b[0m\n\u001b[1;32m----> 1\u001b[1;33m \u001b[1;32mfor\u001b[0m \u001b[0mi\u001b[0m \u001b[1;32min\u001b[0m \u001b[1;36m10\u001b[0m\u001b[1;33m:\u001b[0m\u001b[1;33m\u001b[0m\u001b[1;33m\u001b[0m\u001b[0m\n\u001b[0m\u001b[0;32m      2\u001b[0m     \u001b[0mprint\u001b[0m\u001b[1;33m(\u001b[0m\u001b[0mi\u001b[0m\u001b[1;33m)\u001b[0m\u001b[1;33m\u001b[0m\u001b[1;33m\u001b[0m\u001b[0m\n",
      "\u001b[1;31mTypeError\u001b[0m: 'int' object is not iterable"
     ]
    }
   ],
   "source": [
    "for i in \"s\":\n",
    "    print(i)"
   ]
  },
  {
   "cell_type": "code",
   "execution_count": 13,
   "id": "16869cc6",
   "metadata": {},
   "outputs": [
    {
     "ename": "TypeError",
     "evalue": "'str' object is not an iterator",
     "output_type": "error",
     "traceback": [
      "\u001b[1;31m---------------------------------------------------------------------------\u001b[0m",
      "\u001b[1;31mTypeError\u001b[0m                                 Traceback (most recent call last)",
      "\u001b[1;32m~\\AppData\\Local\\Temp/ipykernel_8092/4243923942.py\u001b[0m in \u001b[0;36m<module>\u001b[1;34m\u001b[0m\n\u001b[0;32m      1\u001b[0m \u001b[0mname\u001b[0m\u001b[1;33m=\u001b[0m \u001b[1;34m\"anil\"\u001b[0m\u001b[1;33m\u001b[0m\u001b[1;33m\u001b[0m\u001b[0m\n\u001b[1;32m----> 2\u001b[1;33m \u001b[0mnext\u001b[0m\u001b[1;33m(\u001b[0m\u001b[0mname\u001b[0m\u001b[1;33m)\u001b[0m\u001b[1;33m\u001b[0m\u001b[1;33m\u001b[0m\u001b[0m\n\u001b[0m",
      "\u001b[1;31mTypeError\u001b[0m: 'str' object is not an iterator"
     ]
    }
   ],
   "source": [
    "name= \"anil\"\n",
    "next(name)"
   ]
  },
  {
   "cell_type": "code",
   "execution_count": 18,
   "id": "2959408a",
   "metadata": {},
   "outputs": [
    {
     "data": {
      "text/plain": [
       "'a'"
      ]
     },
     "execution_count": 18,
     "metadata": {},
     "output_type": "execute_result"
    }
   ],
   "source": [
    "name= \"anil\"\n",
    "a = iter(name)\n",
    "next(a)"
   ]
  },
  {
   "cell_type": "code",
   "execution_count": 19,
   "id": "bf53d3cd",
   "metadata": {},
   "outputs": [
    {
     "data": {
      "text/plain": [
       "'n'"
      ]
     },
     "execution_count": 19,
     "metadata": {},
     "output_type": "execute_result"
    }
   ],
   "source": [
    "next(a)"
   ]
  },
  {
   "cell_type": "code",
   "execution_count": 20,
   "id": "06cbeafe",
   "metadata": {},
   "outputs": [
    {
     "data": {
      "text/plain": [
       "'i'"
      ]
     },
     "execution_count": 20,
     "metadata": {},
     "output_type": "execute_result"
    }
   ],
   "source": [
    "next(a)"
   ]
  },
  {
   "cell_type": "code",
   "execution_count": 21,
   "id": "7ec67965",
   "metadata": {},
   "outputs": [
    {
     "data": {
      "text/plain": [
       "'l'"
      ]
     },
     "execution_count": 21,
     "metadata": {},
     "output_type": "execute_result"
    }
   ],
   "source": [
    "next(a)"
   ]
  },
  {
   "cell_type": "code",
   "execution_count": 1,
   "id": "8cb07651",
   "metadata": {},
   "outputs": [
    {
     "data": {
      "text/plain": [
       "[0, 1, 8, 27, 64, 125, 216]"
      ]
     },
     "execution_count": 1,
     "metadata": {},
     "output_type": "execute_result"
    }
   ],
   "source": [
    "def test8(n):\n",
    "    l =[]\n",
    "    for i in range(n):\n",
    "        l.append(i**3)\n",
    "    return l\n",
    "test8(7)"
   ]
  },
  {
   "cell_type": "code",
   "execution_count": 3,
   "id": "ab49c5b0",
   "metadata": {},
   "outputs": [
    {
     "data": {
      "text/plain": [
       "<generator object test9 at 0x0000022F959CB820>"
      ]
     },
     "execution_count": 3,
     "metadata": {},
     "output_type": "execute_result"
    }
   ],
   "source": [
    "def test9(n):\n",
    "    for i in range(n):\n",
    "        yield i**3\n",
    "test9(5)"
   ]
  },
  {
   "cell_type": "code",
   "execution_count": 4,
   "id": "f60fcf16",
   "metadata": {},
   "outputs": [
    {
     "data": {
      "text/plain": [
       "range(0, 5)"
      ]
     },
     "execution_count": 4,
     "metadata": {},
     "output_type": "execute_result"
    }
   ],
   "source": [
    "range(2)"
   ]
  },
  {
   "cell_type": "code",
   "execution_count": 6,
   "id": "c336e622",
   "metadata": {},
   "outputs": [
    {
     "name": "stdout",
     "output_type": "stream",
     "text": [
      "0\n",
      "1\n"
     ]
    }
   ],
   "source": [
    "for i in range(2):\n",
    "    print(i)"
   ]
  },
  {
   "cell_type": "code",
   "execution_count": 7,
   "id": "0ed80af4",
   "metadata": {},
   "outputs": [
    {
     "data": {
      "text/plain": [
       "[0, 1]"
      ]
     },
     "execution_count": 7,
     "metadata": {},
     "output_type": "execute_result"
    }
   ],
   "source": [
    "list(range(2))"
   ]
  },
  {
   "cell_type": "code",
   "execution_count": 8,
   "id": "ee77b75c",
   "metadata": {},
   "outputs": [
    {
     "data": {
      "text/plain": [
       "<generator object test9 at 0x0000022F959CBD60>"
      ]
     },
     "execution_count": 8,
     "metadata": {},
     "output_type": "execute_result"
    }
   ],
   "source": [
    "def test9(n):\n",
    "    for i in range(n):\n",
    "        yield i**3\n",
    "test9(5)"
   ]
  },
  {
   "cell_type": "code",
   "execution_count": 13,
   "id": "1e0275cd",
   "metadata": {},
   "outputs": [
    {
     "name": "stdout",
     "output_type": "stream",
     "text": [
      "0\n",
      "1\n"
     ]
    }
   ],
   "source": [
    "for i in test9(2):\n",
    "    print(i)"
   ]
  },
  {
   "cell_type": "code",
   "execution_count": 20,
   "id": "96ac1f54",
   "metadata": {},
   "outputs": [
    {
     "data": {
      "text/plain": [
       "[1, 1, 2, 3, 5]"
      ]
     },
     "execution_count": 20,
     "metadata": {},
     "output_type": "execute_result"
    }
   ],
   "source": [
    "# fucntion for generating fibonacci series\n",
    "\n",
    "def genfib(n):\n",
    "    a =1\n",
    "    b=1\n",
    "    l = []\n",
    "    for i in range(n):\n",
    "        l.append(a)\n",
    "        a,b = b,a+b\n",
    "    return l\n",
    "genfib(5)"
   ]
  },
  {
   "cell_type": "code",
   "execution_count": null,
   "id": "bce35823",
   "metadata": {},
   "outputs": [],
   "source": []
  }
 ],
 "metadata": {
  "kernelspec": {
   "display_name": "Python 3 (ipykernel)",
   "language": "python",
   "name": "python3"
  },
  "language_info": {
   "codemirror_mode": {
    "name": "ipython",
    "version": 3
   },
   "file_extension": ".py",
   "mimetype": "text/x-python",
   "name": "python",
   "nbconvert_exporter": "python",
   "pygments_lexer": "ipython3",
   "version": "3.9.7"
  }
 },
 "nbformat": 4,
 "nbformat_minor": 5
}
