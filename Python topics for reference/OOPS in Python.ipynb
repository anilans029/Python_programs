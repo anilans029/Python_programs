{
 "cells": [
  {
   "cell_type": "markdown",
   "id": "b1b77ab7",
   "metadata": {},
   "source": [
    "# OOPS"
   ]
  },
  {
   "cell_type": "code",
   "execution_count": null,
   "id": "14ff3c71",
   "metadata": {},
   "outputs": [],
   "source": [
    "#class is keyword used to create classes in python\n",
    "\n",
    "class car:\n",
    "    pass"
   ]
  },
  {
   "cell_type": "code",
   "execution_count": null,
   "id": "8cf57d6b",
   "metadata": {},
   "outputs": [],
   "source": [
    "#object creation for the car class\n",
    "# here audi_q7 is a object of car class\n",
    "audi_q7 = car()\n",
    "audi_q7"
   ]
  },
  {
   "cell_type": "code",
   "execution_count": null,
   "id": "bf1cca8d",
   "metadata": {},
   "outputs": [],
   "source": [
    "# here mileage, year, make, model all are attributes of \n",
    "# the car audi_q7 i.e we are creating variables of car class\n",
    "\n",
    "\n",
    "audi_q7.mileage = 10\n",
    "audi_q7.year = 2020\n",
    "audi_q7.make = 345\n",
    "audi_q7.model = \"asdfa\""
   ]
  },
  {
   "cell_type": "code",
   "execution_count": null,
   "id": "b2ba745a",
   "metadata": {},
   "outputs": [],
   "source": [
    "audi_q7.make"
   ]
  },
  {
   "cell_type": "code",
   "execution_count": null,
   "id": "bfbcac27",
   "metadata": {},
   "outputs": [],
   "source": [
    "audi_q7.model"
   ]
  },
  {
   "cell_type": "code",
   "execution_count": null,
   "id": "92d6e006",
   "metadata": {},
   "outputs": [],
   "source": [
    "nano = car()\n",
    "\n",
    "nano.make = 3422\n",
    "nano.mileage = 39\n",
    "nano.year = 2021\n",
    "nano.engineno = 342342342\n",
    "nano.model = \"aienenwlr\""
   ]
  },
  {
   "cell_type": "code",
   "execution_count": null,
   "id": "b1e86194",
   "metadata": {},
   "outputs": [],
   "source": [
    "print(nano.mileage, audi_q7.mileage)"
   ]
  },
  {
   "cell_type": "markdown",
   "id": "34f487af",
   "metadata": {},
   "source": [
    "> one disadvantage here is we need to create the parameters or variables for the objects every time we create a new object\n",
    "\n",
    "> so we need to make the class in the way like whenver we create obj for a particular class then the variables should \n",
    "be automaically initiated this can be done by using \n",
    "\n",
    ">  constructor __init__"
   ]
  },
  {
   "cell_type": "code",
   "execution_count": null,
   "id": "2871dfad",
   "metadata": {},
   "outputs": [],
   "source": [
    "class car:\n",
    " \n",
    "#  __init__ is a concept of constructor i.e it is a inbuilt function\n",
    "# which is used for the initialization of data.\n",
    "\n",
    "# self is not a keyword. It acts like a pointer that points to class variable i.e object of the class\n",
    "# so when anyone initiate a obj of a class they need to pass these parameters as well\n",
    "    def __init__(self, milegae, year, make, model):\n",
    "        self.milegae = milegae\n",
    "        self.year = year\n",
    "        self.make = make\n",
    "        self.model = model\n",
    "    \n",
    "    def age(self, current_year):\n",
    "        return current_year - self.year\n",
    "    \n",
    "    def mil(self):\n",
    "        print(\"print mileage of a car :\", self.milegae)\n",
    "        \n",
    "# her __str__ is a inbuilt method whenever we try to call our obj it gives \n",
    "# the address of it we can override it and return our own message\n",
    "\n",
    "    def __str__(self):\n",
    "        return(\"this is the object of the class car\")\n",
    "    \n",
    "    "
   ]
  },
  {
   "cell_type": "code",
   "execution_count": null,
   "id": "0f707215",
   "metadata": {},
   "outputs": [],
   "source": [
    "india = car()"
   ]
  },
  {
   "cell_type": "code",
   "execution_count": null,
   "id": "62103c6b",
   "metadata": {},
   "outputs": [],
   "source": [
    "indica = car(20, 2009, 23423,\"ajdfasdhf\")\n",
    "suzuki = car(18, 2021, 264423,\"suzuki\")"
   ]
  },
  {
   "cell_type": "code",
   "execution_count": null,
   "id": "689e6b0a",
   "metadata": {},
   "outputs": [],
   "source": [
    "print(indica.milegae, suzuki.milegae)"
   ]
  },
  {
   "cell_type": "code",
   "execution_count": null,
   "id": "a6848ff9",
   "metadata": {},
   "outputs": [],
   "source": [
    "indica.age(2020)"
   ]
  },
  {
   "cell_type": "code",
   "execution_count": null,
   "id": "929f2332",
   "metadata": {},
   "outputs": [],
   "source": [
    "indica.mil()"
   ]
  },
  {
   "cell_type": "code",
   "execution_count": null,
   "id": "9b2fa110",
   "metadata": {},
   "outputs": [],
   "source": []
  },
  {
   "cell_type": "code",
   "execution_count": null,
   "id": "4877c585",
   "metadata": {},
   "outputs": [],
   "source": [
    "# we can use any variable name instead of self but the 1st parameter in\n",
    "# the __init__ constructor has to be the pointer "
   ]
  },
  {
   "cell_type": "code",
   "execution_count": 1,
   "id": "8c2095dc",
   "metadata": {},
   "outputs": [],
   "source": [
    "class animal:\n",
    "    \n",
    "    def __init__(a, na, ag, colo):\n",
    "        a.name = na\n",
    "        a.age = ag\n",
    "        a.colour = colo\n",
    "\n",
    "Tiger = animal(\"tiger\", 30, \"orange\")\n"
   ]
  },
  {
   "cell_type": "code",
   "execution_count": 2,
   "id": "ffd88439",
   "metadata": {},
   "outputs": [
    {
     "data": {
      "text/plain": [
       "30"
      ]
     },
     "execution_count": 2,
     "metadata": {},
     "output_type": "execute_result"
    }
   ],
   "source": [
    "Tiger.age "
   ]
  },
  {
   "cell_type": "code",
   "execution_count": 3,
   "id": "5122d59e",
   "metadata": {},
   "outputs": [],
   "source": [
    "Tiger.age = 40\n"
   ]
  },
  {
   "cell_type": "code",
   "execution_count": 4,
   "id": "2a50bc24",
   "metadata": {},
   "outputs": [
    {
     "name": "stdout",
     "output_type": "stream",
     "text": [
      "40\n"
     ]
    }
   ],
   "source": [
    "print(Tiger.age)"
   ]
  },
  {
   "cell_type": "code",
   "execution_count": 5,
   "id": "968068c1",
   "metadata": {},
   "outputs": [
    {
     "name": "stdout",
     "output_type": "stream",
     "text": [
      "<__main__.animal object at 0x000001C383C22790>\n"
     ]
    }
   ],
   "source": [
    "print(Tiger)"
   ]
  },
  {
   "cell_type": "code",
   "execution_count": 6,
   "id": "fe8396b1",
   "metadata": {},
   "outputs": [
    {
     "ename": "NameError",
     "evalue": "name 'indica' is not defined",
     "output_type": "error",
     "traceback": [
      "\u001b[1;31m---------------------------------------------------------------------------\u001b[0m",
      "\u001b[1;31mNameError\u001b[0m                                 Traceback (most recent call last)",
      "\u001b[1;32m~\\AppData\\Local\\Temp/ipykernel_16420/3604783337.py\u001b[0m in \u001b[0;36m<module>\u001b[1;34m\u001b[0m\n\u001b[1;32m----> 1\u001b[1;33m \u001b[0mprint\u001b[0m\u001b[1;33m(\u001b[0m\u001b[0mindica\u001b[0m\u001b[1;33m)\u001b[0m\u001b[1;33m\u001b[0m\u001b[1;33m\u001b[0m\u001b[0m\n\u001b[0m",
      "\u001b[1;31mNameError\u001b[0m: name 'indica' is not defined"
     ]
    }
   ],
   "source": [
    "print(indica)"
   ]
  },
  {
   "cell_type": "code",
   "execution_count": null,
   "id": "e49368fd",
   "metadata": {},
   "outputs": [],
   "source": [
    "class student:\n",
    "    \n",
    "    def __init__(self, name, rollno, joining_date, current_topic):\n",
    "        self.name = name \n",
    "        self.rollno = rollno\n",
    "        self.joining_date = joining_date\n",
    "        self.current_topic = current_topic\n",
    "    \n",
    "    \n",
    "    def crt_topic(self):\n",
    "        print(\"current topic discussed in my class is \", self.current_topic)\n",
    "    \n",
    "    def str_rollno(self):\n",
    "        try:\n",
    "            print(type(self.rollno))\n",
    "            if type(self.rollno) == str:\n",
    "                print(\"do nothing\")\n",
    "                \n",
    "        except Exception as e:\n",
    "            return \"the exception is \",e\n",
    "        \n",
    "#         else:\n",
    "#             if type(self.rollno) == int:\n",
    "#                     return str(self.rollno)\n",
    "    def duration(self, current_date):\n",
    "        print(\"duration of student in my class is :\", current_date- self.joining_date)\n",
    "        \n",
    "    def __str__(self):\n",
    "        return \"this is the object of the student class where we can input data of students\""
   ]
  },
  {
   "cell_type": "code",
   "execution_count": null,
   "id": "567f607a",
   "metadata": {},
   "outputs": [],
   "source": [
    " anil = student(\"anil naga sai\",True, 2016, \"oops concept\")"
   ]
  },
  {
   "cell_type": "code",
   "execution_count": null,
   "id": "0f968cda",
   "metadata": {},
   "outputs": [],
   "source": [
    "anil.crt_topic()"
   ]
  },
  {
   "cell_type": "code",
   "execution_count": null,
   "id": "536e2d64",
   "metadata": {},
   "outputs": [],
   "source": [
    "anil.str_rollno()"
   ]
  },
  {
   "cell_type": "code",
   "execution_count": null,
   "id": "79ac2a6a",
   "metadata": {},
   "outputs": [],
   "source": [
    "anil.duration(2021)"
   ]
  },
  {
   "cell_type": "code",
   "execution_count": null,
   "id": "b8e278ab",
   "metadata": {},
   "outputs": [],
   "source": [
    "anil"
   ]
  },
  {
   "cell_type": "code",
   "execution_count": null,
   "id": "e34c365a",
   "metadata": {},
   "outputs": [],
   "source": [
    "print(anil)"
   ]
  },
  {
   "cell_type": "markdown",
   "id": "3eceb8a9",
   "metadata": {},
   "source": [
    "# Home Work"
   ]
  },
  {
   "cell_type": "markdown",
   "id": "328c17f5",
   "metadata": {},
   "source": [
    "level 1\n",
    "-> create a class data with vaiables File Name, File_type, date, size\n",
    "-> create afunction with file_open() which takes the filename and create that file if it doesnt exist in local system then write something in the file\n",
    "-> create another funtion file_read() which read the file\n",
    "-> create another function file_append() which appends new data in same file and show\n",
    "\n",
    "level 2\n",
    "-> apply exception handling on the above functions\n",
    "-> use logging by creating a function in class itself and whenever we \n",
    "    implement the log call that function and do logging"
   ]
  },
  {
   "cell_type": "code",
   "execution_count": null,
   "id": "547dca93",
   "metadata": {},
   "outputs": [],
   "source": [
    "import os\n",
    "import logging as lg\n",
    "class file_system():\n",
    "    def __init__(self, filename, file_type, date, size):\n",
    "        self.filename = filename\n",
    "        self.file_type = file_type\n",
    "        self.date = date\n",
    "        self.size = size\n",
    "    \n",
    "    def file_open(self):\n",
    "        try:\n",
    "            f = open(self.filename, \"a+\")\n",
    "            text = input(\"enter the text to be inserted in the file:\")\n",
    "            f.write(text)\n",
    "        except Exception as e:\n",
    "            self.logg(e)\n",
    "        finally:\n",
    "            f.close()\n",
    "\n",
    "    def file_read(self):\n",
    "        try:\n",
    "            f = open(self.filename,\"w+\")\n",
    "            print(f.read())\n",
    "        except Exception as e:\n",
    "            self.logg(e)\n",
    "        finally:\n",
    "            f.close()\n",
    "        \n",
    "    def file_append(self):\n",
    "        try :\n",
    "            f = open(self.filename,\"a+\")\n",
    "            f.write(input(\"enter the text to be appended to the file:\"))\n",
    "            f.seek(0)\n",
    "            print(f.read())\n",
    "        except Exception as e:\n",
    "            self.logg(e)\n",
    "        finally:\n",
    "            f.close()\n",
    "        \n",
    "    def logg(self,log_message):\n",
    "        lg.basicConfig(filename = \"newlog.log\", level = lg.INFO, format= \"%(asctime)s --- %(levelname)s --- %(message)s\")\n",
    "        lg.exception(log_message)\n",
    "\n",
    "        \n",
    "        \n",
    "        \n",
    "        \n",
    "        "
   ]
  },
  {
   "cell_type": "code",
   "execution_count": null,
   "id": "83a27b52",
   "metadata": {},
   "outputs": [],
   "source": [
    "file1 = file_system(\"test1.txt\",\"text file\", \"20-12-2021\", 0)"
   ]
  },
  {
   "cell_type": "code",
   "execution_count": null,
   "id": "7130e8f2",
   "metadata": {},
   "outputs": [],
   "source": [
    "print(file1.date)"
   ]
  },
  {
   "cell_type": "code",
   "execution_count": null,
   "id": "89f7d074",
   "metadata": {},
   "outputs": [],
   "source": [
    "file1.file_open()"
   ]
  },
  {
   "cell_type": "code",
   "execution_count": null,
   "id": "1af88bc1",
   "metadata": {},
   "outputs": [],
   "source": [
    "file1.file_read()"
   ]
  },
  {
   "cell_type": "code",
   "execution_count": null,
   "id": "2f736ca6",
   "metadata": {},
   "outputs": [],
   "source": [
    "file1.file_append()"
   ]
  },
  {
   "cell_type": "markdown",
   "id": "bf4d9ab7",
   "metadata": {},
   "source": [
    "# Abstraction and inheritance"
   ]
  },
  {
   "cell_type": "code",
   "execution_count": null,
   "id": "35b84e9b",
   "metadata": {},
   "outputs": [],
   "source": [
    "# in other oops programming language there is something called as \n",
    "# public private which helps in protecting the variables or methods from \n",
    "# accessing them\n",
    "\n",
    "# In python , abstraction is little different compared to other languages"
   ]
  },
  {
   "cell_type": "markdown",
   "id": "529e6dbe",
   "metadata": {},
   "source": [
    "# Public "
   ]
  },
  {
   "cell_type": "code",
   "execution_count": null,
   "id": "feb0bb5a",
   "metadata": {},
   "outputs": [],
   "source": [
    "class test :\n",
    "    def __init__(self, a,b,c,d):\n",
    "        self.a = a\n",
    "        self.b = b\n",
    "        self.c = c\n",
    "        self.d = d\n",
    "    def test_customer(self, v):\n",
    "        return v - self.a   # here _a is different variable than a\n",
    "                            # THis concept is called abstraction in python\n",
    "    # if var is public it can be accessed from anywhere\n",
    "    # if it is protected, we can access outside of the class but not outside of the packages\n",
    "    # if it is private , we can access only within classes\n",
    "                # in python, abstraction is symbolized\n",
    "    # lets see how to implement these in python language\n",
    "    # --> if no '_' before the vaiable then it is public\n",
    "    # --> if single '_' befor the variable then it is protected\n",
    "    # --> if double '__' before the vaiable then it is private\n",
    "    \n",
    "    def __str__(self):\n",
    "        return \"this is my test code for abstraction\""
   ]
  },
  {
   "cell_type": "code",
   "execution_count": 17,
   "id": "da010ac7",
   "metadata": {},
   "outputs": [],
   "source": [
    "obj = test(4,5,6,7)"
   ]
  },
  {
   "cell_type": "code",
   "execution_count": 18,
   "id": "9a2863ce",
   "metadata": {},
   "outputs": [
    {
     "data": {
      "text/plain": [
       "3"
      ]
     },
     "execution_count": 18,
     "metadata": {},
     "output_type": "execute_result"
    }
   ],
   "source": [
    "obj.test_customer(7)"
   ]
  },
  {
   "cell_type": "markdown",
   "id": "d8e61007",
   "metadata": {},
   "source": [
    "# Protected"
   ]
  },
  {
   "cell_type": "code",
   "execution_count": 19,
   "id": "676507f8",
   "metadata": {},
   "outputs": [],
   "source": [
    "class test1 :\n",
    "    def __init__(self, a,b,c,d):\n",
    "        self._a = a\n",
    "        self.b = b\n",
    "        self.c = c\n",
    "        self.d = d\n",
    "    def test_customer(self, v):\n",
    "        return v - self._a "
   ]
  },
  {
   "cell_type": "code",
   "execution_count": 20,
   "id": "44a32661",
   "metadata": {},
   "outputs": [],
   "source": [
    "obj1 = test1(4,23,42,2)"
   ]
  },
  {
   "cell_type": "code",
   "execution_count": 21,
   "id": "0fd63226",
   "metadata": {},
   "outputs": [
    {
     "data": {
      "text/plain": [
       "1"
      ]
     },
     "execution_count": 21,
     "metadata": {},
     "output_type": "execute_result"
    }
   ],
   "source": [
    "obj1.test_customer(5) # here we can objserve that _a can be accessed within the class\n",
    "                    # as well as ouside the class"
   ]
  },
  {
   "cell_type": "code",
   "execution_count": 28,
   "id": "5062e788",
   "metadata": {},
   "outputs": [
    {
     "data": {
      "text/plain": [
       "4"
      ]
     },
     "execution_count": 28,
     "metadata": {},
     "output_type": "execute_result"
    }
   ],
   "source": [
    "obj1._a"
   ]
  },
  {
   "cell_type": "markdown",
   "id": "cc22cae6",
   "metadata": {},
   "source": [
    "# Private"
   ]
  },
  {
   "cell_type": "code",
   "execution_count": 31,
   "id": "05aab759",
   "metadata": {},
   "outputs": [],
   "source": [
    "class test2 :\n",
    "    def __init__(self, a,b,c,d):\n",
    "        self.__a = a\n",
    "        self.__b = b\n",
    "        self.c = c\n",
    "        self.d = d\n",
    "    def test_customer(self, v):\n",
    "        return v - self.__a "
   ]
  },
  {
   "cell_type": "code",
   "execution_count": 32,
   "id": "6a61c3c3",
   "metadata": {},
   "outputs": [],
   "source": [
    "obj2 = test2(4,23,42,2)"
   ]
  },
  {
   "cell_type": "code",
   "execution_count": 33,
   "id": "6accb664",
   "metadata": {},
   "outputs": [
    {
     "data": {
      "text/plain": [
       "1"
      ]
     },
     "execution_count": 33,
     "metadata": {},
     "output_type": "execute_result"
    }
   ],
   "source": [
    "obj2.test_customer(5)"
   ]
  },
  {
   "cell_type": "code",
   "execution_count": 34,
   "id": "fbf58e4d",
   "metadata": {},
   "outputs": [],
   "source": [
    "# the private variable cant be accessed outside the class"
   ]
  },
  {
   "cell_type": "code",
   "execution_count": 35,
   "id": "63e14f5f",
   "metadata": {
    "scrolled": true
   },
   "outputs": [
    {
     "ename": "AttributeError",
     "evalue": "'test2' object has no attribute '__a'",
     "output_type": "error",
     "traceback": [
      "\u001b[1;31m---------------------------------------------------------------------------\u001b[0m",
      "\u001b[1;31mAttributeError\u001b[0m                            Traceback (most recent call last)",
      "\u001b[1;32m~\\AppData\\Local\\Temp/ipykernel_10116/2935275018.py\u001b[0m in \u001b[0;36m<module>\u001b[1;34m\u001b[0m\n\u001b[1;32m----> 1\u001b[1;33m \u001b[0mobj2\u001b[0m\u001b[1;33m.\u001b[0m\u001b[0m__a\u001b[0m\u001b[1;33m\u001b[0m\u001b[1;33m\u001b[0m\u001b[0m\n\u001b[0m",
      "\u001b[1;31mAttributeError\u001b[0m: 'test2' object has no attribute '__a'"
     ]
    }
   ],
   "source": [
    "obj2.__a"
   ]
  },
  {
   "cell_type": "code",
   "execution_count": 36,
   "id": "0a711a20",
   "metadata": {},
   "outputs": [],
   "source": [
    "# we can also access this private variable outside the class by following"
   ]
  },
  {
   "cell_type": "code",
   "execution_count": 38,
   "id": "8dbca3ae",
   "metadata": {},
   "outputs": [
    {
     "data": {
      "text/plain": [
       "4"
      ]
     },
     "execution_count": 38,
     "metadata": {},
     "output_type": "execute_result"
    }
   ],
   "source": [
    "obj2._test2__a"
   ]
  },
  {
   "cell_type": "markdown",
   "id": "4d75827c",
   "metadata": {},
   "source": [
    "# So we can say in python abstraction is not strictly implemented but if we need then we can use that"
   ]
  },
  {
   "cell_type": "markdown",
   "id": "685a6781",
   "metadata": {},
   "source": [
    "# Inheritance"
   ]
  },
  {
   "cell_type": "code",
   "execution_count": 48,
   "id": "aaee33f0",
   "metadata": {},
   "outputs": [],
   "source": [
    "# we already created class test and we need to write same kind of class like test \n",
    "# so instead of writing another class we inherit all the properties from parent class to child class\n",
    "# here parent class is test\n",
    "# child class is test3\n",
    "\n",
    "class test3(test):\n",
    "    def __init__(self, j, *args): # in parent class there are 4 args and we need to accomodate it\n",
    "        super(test3,self).__init__(*args) # here super(present class i.e test3)  is test\n",
    "        self.j = j\n",
    "        \n",
    "        \n",
    "# ***********************************\n",
    "# super(test3,self) --> we need to call __init__ method of parent i.e test\n",
    "# whenever we create obj of test class it automatically call __init__ mehtod to initialixe the variables\n",
    "# so we need to call the __init__ of parent class so that we can initialize it from the object of the child class\n",
    "\n",
    "\n",
    "        \n",
    "        \n",
    "        \n",
    "        \n",
    "        "
   ]
  },
  {
   "cell_type": "code",
   "execution_count": 50,
   "id": "fdb35a56",
   "metadata": {},
   "outputs": [
    {
     "data": {
      "text/plain": [
       "4"
      ]
     },
     "execution_count": 50,
     "metadata": {},
     "output_type": "execute_result"
    }
   ],
   "source": [
    "m = test3(4,5,7,5,6)\n",
    "m.j"
   ]
  },
  {
   "cell_type": "code",
   "execution_count": 51,
   "id": "6ac1df92",
   "metadata": {},
   "outputs": [
    {
     "data": {
      "text/plain": [
       "1"
      ]
     },
     "execution_count": 51,
     "metadata": {},
     "output_type": "execute_result"
    }
   ],
   "source": [
    "# here with the use of child class obj we can use parent class method\n",
    "m.test_customer(6)"
   ]
  },
  {
   "cell_type": "code",
   "execution_count": 52,
   "id": "ac0e8f48",
   "metadata": {},
   "outputs": [
    {
     "name": "stdout",
     "output_type": "stream",
     "text": [
      "5 7 5 6\n"
     ]
    }
   ],
   "source": [
    "print(m.a,m.b,m.c,m.d)"
   ]
  },
  {
   "cell_type": "markdown",
   "id": "534f47d1",
   "metadata": {},
   "source": [
    "# Assignement\n",
    "( in multiple inheritance when child class is calling a var or method which is having same name in both parent classes then according to the priority of giving the parent classes it will call that var or method)"
   ]
  },
  {
   "cell_type": "markdown",
   "id": "96cbd9dc",
   "metadata": {},
   "source": [
    "---> create a class called test, test1 and try to inherit both the classes in another class test2\n",
    "-----> in class test, test1 create function a() i.e function signature should be same\n",
    "------> test2 able to access both the a() mehtods from test, test1 "
   ]
  },
  {
   "cell_type": "code",
   "execution_count": 75,
   "id": "ad2eca64",
   "metadata": {},
   "outputs": [],
   "source": [
    "class test:\n",
    "    name = \"anil\"\n",
    "    def a(self):\n",
    "        print(\"this is from function a() from test\")\n",
    "class test1:\n",
    "    age = 22\n",
    "    def a(self):\n",
    "        print(\"this is from function a() from test1\")\n",
    "class test2(test1,test):\n",
    "    pass"
   ]
  },
  {
   "cell_type": "code",
   "execution_count": 76,
   "id": "57a0d509",
   "metadata": {},
   "outputs": [],
   "source": [
    "obj = test2()\n"
   ]
  },
  {
   "cell_type": "code",
   "execution_count": 77,
   "id": "14f4beb9",
   "metadata": {},
   "outputs": [
    {
     "data": {
      "text/plain": [
       "'anil'"
      ]
     },
     "execution_count": 77,
     "metadata": {},
     "output_type": "execute_result"
    }
   ],
   "source": [
    "obj.name"
   ]
  },
  {
   "cell_type": "code",
   "execution_count": 78,
   "id": "70f18443",
   "metadata": {},
   "outputs": [
    {
     "data": {
      "text/plain": [
       "22"
      ]
     },
     "execution_count": 78,
     "metadata": {},
     "output_type": "execute_result"
    }
   ],
   "source": [
    "obj.age"
   ]
  },
  {
   "cell_type": "code",
   "execution_count": 79,
   "id": "0b996a37",
   "metadata": {},
   "outputs": [
    {
     "name": "stdout",
     "output_type": "stream",
     "text": [
      "this is from function a() from test1\n"
     ]
    }
   ],
   "source": [
    "obj.a()"
   ]
  },
  {
   "cell_type": "markdown",
   "id": "e5a6b524",
   "metadata": {},
   "source": [
    "# Encapsulation\n",
    "\n",
    "(it is another way of extending the classes where we can hide the implementation of those classes and still we can use those classes)\n",
    "\n",
    "---> the main difference b/w inheritance and emcapsulation is:-\n",
    "\n",
    "In inheritance the child class is inheriting all the variables or methods from the parent class and able to access them directly from the child class \n",
    "\n",
    "But in encapsulation we try to hide the implementation as the class dont inherit all the vaiables or methods from the parent classes or other classes. It tries to pass the objects of other classes as parameters to the current class and then the current class can be able to acces those variables or mehthods throught their objects. Similar example can be seen below"
   ]
  },
  {
   "cell_type": "code",
   "execution_count": 12,
   "id": "1c4e5515",
   "metadata": {},
   "outputs": [],
   "source": [
    "class enc1:\n",
    "    def __init__(self,a,b,c):\n",
    "        self.a = a\n",
    "        self.b = b\n",
    "        self.c = c\n",
    "    \n",
    "    def __str__(self):\n",
    "        return \"this i s the return form  my test 1 class\"\n",
    "class enc2 :\n",
    "    def __init__(self, a,b,c):\n",
    "        self.a = a\n",
    "        self.b = b\n",
    "        self.c = c\n",
    "    def __str__(self):\n",
    "        return \"this i s the return form  my test 2 class\"\n",
    "class enc3 :\n",
    "    def __init__(self, t1,t2):\n",
    "        self.t1 = t1\n",
    "        self.t2 = t2\n",
    "        self.t3 = t3\n",
    "        \n",
    "       \n",
    "    def __str__(self):\n",
    "        return \"this i s the return form  my test enc3 class\"\n",
    "    "
   ]
  },
  {
   "cell_type": "code",
   "execution_count": 13,
   "id": "b0216d48",
   "metadata": {},
   "outputs": [],
   "source": [
    "t1 = enc1(1,2,3)"
   ]
  },
  {
   "cell_type": "code",
   "execution_count": 14,
   "id": "029e5c9c",
   "metadata": {},
   "outputs": [],
   "source": [
    "t2 = enc2(1,2,3)"
   ]
  },
  {
   "cell_type": "code",
   "execution_count": 15,
   "id": "1247b740",
   "metadata": {},
   "outputs": [],
   "source": [
    "obj = enc3(t1,t2)"
   ]
  },
  {
   "cell_type": "code",
   "execution_count": 17,
   "id": "0f42a28b",
   "metadata": {},
   "outputs": [
    {
     "name": "stdout",
     "output_type": "stream",
     "text": [
      "this i s the return form  my test 1 class\n"
     ]
    }
   ],
   "source": [
    "print(obj.t1)"
   ]
  },
  {
   "cell_type": "code",
   "execution_count": 18,
   "id": "85837bae",
   "metadata": {},
   "outputs": [
    {
     "name": "stdout",
     "output_type": "stream",
     "text": [
      "this i s the return form  my test 2 class\n"
     ]
    }
   ],
   "source": [
    "print(obj.t2)"
   ]
  },
  {
   "cell_type": "markdown",
   "id": "90b70c72",
   "metadata": {},
   "source": [
    "Example\n",
    "\n",
    "The below example is inheriting all the variables and methods from the parent class. this is called inheritance"
   ]
  },
  {
   "cell_type": "code",
   "execution_count": 19,
   "id": "96466f4c",
   "metadata": {},
   "outputs": [
    {
     "name": "stdout",
     "output_type": "stream",
     "text": [
      "20 30 25\n"
     ]
    }
   ],
   "source": [
    "class parent:\n",
    "    a = 20\n",
    "    b = 30\n",
    "    def __init__(self, parent_a, parent_b):\n",
    "        self.parent_a = parent_a\n",
    "        self.parent_b = parent_b\n",
    "        \n",
    "class child(parent):\n",
    "    def __init__(self, *args):\n",
    "        super(child,self).__init__(*args)\n",
    "        print(self.a, self.b, self.parent_a)\n",
    "obj = child(25,35)"
   ]
  },
  {
   "cell_type": "markdown",
   "id": "369a31dc",
   "metadata": {},
   "source": [
    "Example"
   ]
  },
  {
   "cell_type": "code",
   "execution_count": 20,
   "id": "9fc21298",
   "metadata": {},
   "outputs": [],
   "source": [
    "class multiplynumeri:\n",
    "    def __init__(self,a):\n",
    "        self.a = a\n",
    "mul = multiplynumeri(9)"
   ]
  },
  {
   "cell_type": "code",
   "execution_count": 24,
   "id": "7856569d",
   "metadata": {},
   "outputs": [],
   "source": [
    "mull = multiplynumeri(2)"
   ]
  },
  {
   "cell_type": "code",
   "execution_count": 25,
   "id": "6f2495ce",
   "metadata": {},
   "outputs": [
    {
     "ename": "TypeError",
     "evalue": "unsupported operand type(s) for *: 'multiplynumeri' and 'multiplynumeri'",
     "output_type": "error",
     "traceback": [
      "\u001b[1;31m---------------------------------------------------------------------------\u001b[0m",
      "\u001b[1;31mTypeError\u001b[0m                                 Traceback (most recent call last)",
      "\u001b[1;32m~\\AppData\\Local\\Temp/ipykernel_2504/2718803613.py\u001b[0m in \u001b[0;36m<module>\u001b[1;34m\u001b[0m\n\u001b[1;32m----> 1\u001b[1;33m \u001b[0mmul\u001b[0m \u001b[1;33m*\u001b[0m \u001b[0mmull\u001b[0m\u001b[1;33m\u001b[0m\u001b[1;33m\u001b[0m\u001b[0m\n\u001b[0m",
      "\u001b[1;31mTypeError\u001b[0m: unsupported operand type(s) for *: 'multiplynumeri' and 'multiplynumeri'"
     ]
    }
   ],
   "source": [
    "mul * mull"
   ]
  },
  {
   "cell_type": "code",
   "execution_count": 26,
   "id": "b7664844",
   "metadata": {},
   "outputs": [
    {
     "data": {
      "text/plain": [
       "18"
      ]
     },
     "execution_count": 26,
     "metadata": {},
     "output_type": "execute_result"
    }
   ],
   "source": [
    "mul.a * mull.a"
   ]
  },
  {
   "cell_type": "code",
   "execution_count": 45,
   "id": "883fd079",
   "metadata": {},
   "outputs": [],
   "source": [
    "class multiplynumeri:\n",
    "    def __init__(self,a):\n",
    "        self.a = a\n",
    "    def __mul__(self, other):\n",
    "        return self.a + other.a\n"
   ]
  },
  {
   "cell_type": "code",
   "execution_count": 46,
   "id": "25046a43",
   "metadata": {},
   "outputs": [],
   "source": [
    "mul = multiplynumeri(10)"
   ]
  },
  {
   "cell_type": "code",
   "execution_count": 47,
   "id": "cf7ba9d5",
   "metadata": {},
   "outputs": [],
   "source": [
    "mull = multiplynumeri(2)"
   ]
  },
  {
   "cell_type": "code",
   "execution_count": 50,
   "id": "4208c985",
   "metadata": {},
   "outputs": [
    {
     "data": {
      "text/plain": [
       "12"
      ]
     },
     "execution_count": 50,
     "metadata": {},
     "output_type": "execute_result"
    }
   ],
   "source": [
    "mul * mull  #This is the example of the operator overlaoding "
   ]
  },
  {
   "cell_type": "code",
   "execution_count": 51,
   "id": "28c9a89c",
   "metadata": {},
   "outputs": [],
   "source": [
    "# Another example for operator overloading"
   ]
  },
  {
   "cell_type": "code",
   "execution_count": 52,
   "id": "94649080",
   "metadata": {},
   "outputs": [],
   "source": [
    "def test(a,b):\n",
    "    return a+b"
   ]
  },
  {
   "cell_type": "code",
   "execution_count": 56,
   "id": "bd8893e3",
   "metadata": {},
   "outputs": [
    {
     "name": "stdout",
     "output_type": "stream",
     "text": [
      "11\n",
      "anilans\n",
      "[3, 34, 3, 4, 2, 3, 34, 5, 34, 2]\n"
     ]
    }
   ],
   "source": [
    "print(test(5,6))\n",
    "print(test(\"anil\",\"ans\"))\n",
    "print(test([3,34,3,4,2,],[3,34,5,34,2,]))"
   ]
  },
  {
   "cell_type": "code",
   "execution_count": 57,
   "id": "999e0976",
   "metadata": {},
   "outputs": [],
   "source": [
    "# in the abopve exdample we can see that same + operator is behabing like different \n",
    "# ways for the number it acts as addition operator\n",
    "# for string it acts as concatenation operator\n",
    "# for list it acts as append operator"
   ]
  },
  {
   "cell_type": "markdown",
   "id": "e1dda6ea",
   "metadata": {},
   "source": [
    "This kind of concept is called as polymorphism"
   ]
  },
  {
   "cell_type": "markdown",
   "id": "c34d1d52",
   "metadata": {},
   "source": [
    "# Polymorphism\n",
    "\n",
    "Multiple forms for the same object"
   ]
  },
  {
   "cell_type": "code",
   "execution_count": 60,
   "id": "65259d1c",
   "metadata": {},
   "outputs": [],
   "source": [
    "class iNeruon:\n",
    "    def msg(self):\n",
    "        print(\"this is a message to iNerorn\")\\\n",
    "\n",
    "        \n",
    "class XYZ:\n",
    "    def msg(self):\n",
    "        print(\"this is a ms to xyz\")\n",
    "            "
   ]
  },
  {
   "cell_type": "code",
   "execution_count": 61,
   "id": "3c4a20bd",
   "metadata": {},
   "outputs": [],
   "source": [
    "def test(notes):\n",
    "    notes.msg()"
   ]
  },
  {
   "cell_type": "code",
   "execution_count": 63,
   "id": "d75ad007",
   "metadata": {},
   "outputs": [],
   "source": [
    "i = iNeruon()\n",
    "x = XYZ()"
   ]
  },
  {
   "cell_type": "code",
   "execution_count": 65,
   "id": "14e785d4",
   "metadata": {},
   "outputs": [
    {
     "name": "stdout",
     "output_type": "stream",
     "text": [
      "this is a message to iNerorn\n",
      "this is a ms to xyz\n"
     ]
    }
   ],
   "source": [
    "test(i)    # here we are creating the objects and passing them to the function\n",
    "test(x)"
   ]
  },
  {
   "cell_type": "code",
   "execution_count": 66,
   "id": "ea8b68f2",
   "metadata": {},
   "outputs": [],
   "source": [
    "# the above concept is which one of oops:\n",
    "# inheritance? polymorphism? abstraction? encapsulation?\n",
    "\n",
    "# ans : polymorphism because based on the type of object we are passing \n",
    "# it is behaving differently"
   ]
  },
  {
   "cell_type": "code",
   "execution_count": null,
   "id": "9f44d5ad",
   "metadata": {},
   "outputs": [],
   "source": []
  },
  {
   "cell_type": "code",
   "execution_count": 65,
   "id": "fa3c6d4f",
   "metadata": {},
   "outputs": [],
   "source": [
    "class employee:\n",
    "    def __init__(self, name, emp_rating):\n",
    "        self.name = name\n",
    "        self.emp_rating = emp_rating\n",
    "        self.__bonusA = \"70%\"\n",
    "        self.bonusB = \"60%\"\n",
    "    def change_bonous(self):\n",
    "        self.__bonusA = \"75%\"\n",
    "    def bonous_cal(self):\n",
    "        if self.emp_rating == \"a\":\n",
    "             print(str(\"the bonous of\"+ \" \"+ self.name+\" is \"+ self.__bonusA))\n",
    "  \n",
    "        \n",
    "        elif self.emp_rating == \"b\":\n",
    "            return str(\"the bonous of\"+ \" \"+ self.name+\" is \"+ self.bonusB)\n",
    "        "
   ]
  },
  {
   "cell_type": "code",
   "execution_count": 66,
   "id": "9266bfac",
   "metadata": {},
   "outputs": [],
   "source": [
    "emp1 = employee(\"anil\",\"a\")"
   ]
  },
  {
   "cell_type": "code",
   "execution_count": 67,
   "id": "d9955e44",
   "metadata": {},
   "outputs": [
    {
     "name": "stdout",
     "output_type": "stream",
     "text": [
      "the bonous of anil is 70%\n"
     ]
    }
   ],
   "source": [
    "emp1.bonous_cal()"
   ]
  },
  {
   "cell_type": "code",
   "execution_count": 68,
   "id": "0d30f9eb",
   "metadata": {},
   "outputs": [],
   "source": [
    "emp1._employee__bonusA = \"90%\""
   ]
  },
  {
   "cell_type": "code",
   "execution_count": 69,
   "id": "d8641f90",
   "metadata": {},
   "outputs": [
    {
     "name": "stdout",
     "output_type": "stream",
     "text": [
      "the bonous of anil is 90%\n"
     ]
    }
   ],
   "source": [
    "emp1.bonous_cal()"
   ]
  },
  {
   "cell_type": "code",
   "execution_count": null,
   "id": "13e08587",
   "metadata": {},
   "outputs": [],
   "source": []
  },
  {
   "cell_type": "code",
   "execution_count": 70,
   "id": "7a8664d6",
   "metadata": {},
   "outputs": [
    {
     "name": "stdout",
     "output_type": "stream",
     "text": [
      "the bonous of ans is 70%\n"
     ]
    }
   ],
   "source": [
    "emp2 = employee(\"ans\",\"a\")\n",
    "emp2.bonous_cal()"
   ]
  },
  {
   "cell_type": "code",
   "execution_count": 71,
   "id": "4ff4857d",
   "metadata": {},
   "outputs": [],
   "source": [
    "emp1.change_bonous()"
   ]
  },
  {
   "cell_type": "code",
   "execution_count": 72,
   "id": "84694182",
   "metadata": {},
   "outputs": [
    {
     "name": "stdout",
     "output_type": "stream",
     "text": [
      "the bonous of anil is 75%\n"
     ]
    }
   ],
   "source": [
    "emp1.bonous_cal()"
   ]
  },
  {
   "cell_type": "code",
   "execution_count": 73,
   "id": "53643117",
   "metadata": {},
   "outputs": [
    {
     "name": "stdout",
     "output_type": "stream",
     "text": [
      "the bonous of sai is 70%\n"
     ]
    }
   ],
   "source": [
    "emp3 = employee(\"sai\",\"a\")\n",
    "emp3.bonous_cal()"
   ]
  },
  {
   "cell_type": "code",
   "execution_count": null,
   "id": "ce3b998d",
   "metadata": {},
   "outputs": [],
   "source": []
  },
  {
   "cell_type": "code",
   "execution_count": null,
   "id": "b5989fc5",
   "metadata": {},
   "outputs": [],
   "source": []
  },
  {
   "cell_type": "code",
   "execution_count": null,
   "id": "afee2237",
   "metadata": {},
   "outputs": [],
   "source": []
  }
 ],
 "metadata": {
  "kernelspec": {
   "display_name": "Python 3 (ipykernel)",
   "language": "python",
   "name": "python3"
  },
  "language_info": {
   "codemirror_mode": {
    "name": "ipython",
    "version": 3
   },
   "file_extension": ".py",
   "mimetype": "text/x-python",
   "name": "python",
   "nbconvert_exporter": "python",
   "pygments_lexer": "ipython3",
   "version": "3.9.7"
  }
 },
 "nbformat": 4,
 "nbformat_minor": 5
}
