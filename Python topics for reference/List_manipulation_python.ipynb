{
 "cells": [
  {
   "cell_type": "code",
   "execution_count": 4,
   "id": "aac96bfc",
   "metadata": {},
   "outputs": [
    {
     "name": "stdout",
     "output_type": "stream",
     "text": [
      "ans\n",
      "1\n",
      "2\n",
      "3\n",
      "['anil', 247, True]\n"
     ]
    }
   ],
   "source": [
    "l = [\"ans\",1,2,3,[\"anil\",247,True]]\n",
    "for i in l:\n",
    "    print(i)"
   ]
  },
  {
   "cell_type": "code",
   "execution_count": 15,
   "id": "3f9887e0",
   "metadata": {},
   "outputs": [],
   "source": [
    "a =[\"ab\",\"cad\",32,\"az\"]\n"
   ]
  },
  {
   "cell_type": "code",
   "execution_count": 17,
   "id": "ac9a0e4e",
   "metadata": {},
   "outputs": [
    {
     "name": "stdout",
     "output_type": "stream",
     "text": [
      "<class 'str'>\n"
     ]
    }
   ],
   "source": [
    "b =(str(a))\n",
    "print(type(b))"
   ]
  },
  {
   "cell_type": "code",
   "execution_count": 18,
   "id": "e03cab51",
   "metadata": {},
   "outputs": [
    {
     "data": {
      "text/plain": [
       "3"
      ]
     },
     "execution_count": 18,
     "metadata": {},
     "output_type": "execute_result"
    }
   ],
   "source": [
    "l = [ \"anil\", \"ans\",\"ans\",\"ans\"]\n",
    "l.count(\"ans\")"
   ]
  },
  {
   "cell_type": "code",
   "execution_count": 19,
   "id": "f2dd4cd7",
   "metadata": {},
   "outputs": [],
   "source": [
    "l.extend(\"test1\")"
   ]
  },
  {
   "cell_type": "code",
   "execution_count": 20,
   "id": "a81c1ad5",
   "metadata": {},
   "outputs": [
    {
     "data": {
      "text/plain": [
       "['anil', 'ans', 'ans', 'ans', 't', 'e', 's', 't', '1']"
      ]
     },
     "execution_count": 20,
     "metadata": {},
     "output_type": "execute_result"
    }
   ],
   "source": [
    "l"
   ]
  },
  {
   "cell_type": "code",
   "execution_count": 21,
   "id": "3f768222",
   "metadata": {},
   "outputs": [
    {
     "name": "stdout",
     "output_type": "stream",
     "text": [
      "9\n"
     ]
    }
   ],
   "source": [
    "print(len(l))"
   ]
  },
  {
   "cell_type": "code",
   "execution_count": 22,
   "id": "216f590a",
   "metadata": {},
   "outputs": [
    {
     "data": {
      "text/plain": [
       "['anil', 'ans', 'ans', 'ans', 't', 'e', 's', 't', '1']"
      ]
     },
     "execution_count": 22,
     "metadata": {},
     "output_type": "execute_result"
    }
   ],
   "source": [
    "l\n"
   ]
  },
  {
   "cell_type": "code",
   "execution_count": 27,
   "id": "a2160a8f",
   "metadata": {},
   "outputs": [
    {
     "name": "stdout",
     "output_type": "stream",
     "text": [
      "5.65\n"
     ]
    },
    {
     "data": {
      "text/plain": [
       "[3, 4, 34, 55, 5, 5]"
      ]
     },
     "execution_count": 27,
     "metadata": {},
     "output_type": "execute_result"
    }
   ],
   "source": [
    "l = [3,4,5,34,55,5,5,5.65]\n",
    "l.pop\n",
    "l.remove(5)\n",
    "l\n"
   ]
  },
  {
   "cell_type": "markdown",
   "id": "95514222",
   "metadata": {},
   "source": [
    "suppose l = [some elements]\n",
    "->    append 2 more lsit and one complex number in this list b/w a existing list\n",
    "->    if your nested list contain string then find its index in nested list and print and then remove the string\n",
    "->    you have to extract 2nd element of each nested list."
   ]
  },
  {
   "cell_type": "code",
   "execution_count": 117,
   "id": "31e6d21a",
   "metadata": {},
   "outputs": [
    {
     "name": "stdout",
     "output_type": "stream",
     "text": [
      "[['anil', 'ans', 'b', 'c', 1, 3, 4], (4+5j), ['ans', 34], [55, 34, 'sai'], ['pans', 53], [534, '343', 'ans', 'ans']]\n",
      "the index of anil is:0\n",
      "the index of ans is:1\n",
      "the index of b is:2\n",
      "the index of c is:3\n",
      "the index of ans is:0\n",
      "the index of sai is:2\n",
      "the index of pans is:0\n",
      "the index of 343 is:1\n",
      "the index of ans is:2\n",
      "the index of ans is:3\n",
      "[[1, 3, 4], (4+5j), [34], [55, 34], [53], [534]]\n",
      "Wall time: 1.95 ms\n"
     ]
    }
   ],
   "source": [
    "%%time\n",
    "l = [[\"anil\",\"ans\",\"b\",\"c\",1,3,4],[\"ans\",34],[55,34,\"sai\"]]\n",
    "l1 = [\"pans\", 53]\n",
    "l3 = 4+5j\n",
    "l2  = [534,\"343\",\"ans\",\"ans\"]\n",
    "\n",
    "l.insert(-2,l3)\n",
    "l.append(l1)\n",
    "l.append(l2)\n",
    "\n",
    "print(l)\n",
    "for i in range(len(l)):\n",
    "    if type(l[i]) == list:\n",
    "        k = 0\n",
    "        for j in l[i]:\n",
    "            if type(j)==str:\n",
    "                print(\"the index of {} is:{}\".format(j,k))\n",
    "#                 l[i].remove(j)\n",
    "#                 print(\"this is updated list {}\".format(l[i]))\n",
    "            k+= 1\n",
    "        k = 0\n",
    "        for j in range(len(l[i])):\n",
    "            if type(l[i][k]) is str:\n",
    "                l[i].remove(l[i][k])\n",
    "                continue\n",
    "            k+= 1\n",
    "    \n",
    "print(l)\n"
   ]
  },
  {
   "cell_type": "code",
   "execution_count": 95,
   "id": "2feefe00",
   "metadata": {},
   "outputs": [
    {
     "name": "stdout",
     "output_type": "stream",
     "text": [
      "['a', 'n', 'i', 'l']\n"
     ]
    }
   ],
   "source": [
    "l =[]\n",
    "for i in \"anil\":\n",
    "    l.append(i)\n",
    "print(l)"
   ]
  },
  {
   "cell_type": "code",
   "execution_count": 96,
   "id": "ff78b456",
   "metadata": {},
   "outputs": [
    {
     "data": {
      "text/plain": [
       "['a', 'n', 'i', 'l']"
      ]
     },
     "execution_count": 96,
     "metadata": {},
     "output_type": "execute_result"
    }
   ],
   "source": [
    "[i for i in \"anil\"]"
   ]
  },
  {
   "cell_type": "code",
   "execution_count": 99,
   "id": "64d01ca4",
   "metadata": {},
   "outputs": [
    {
     "name": "stdout",
     "output_type": "stream",
     "text": [
      "['even', 'odd', 'even', 'odd', 'even', 'odd', 'even', 'odd', 'even', 'odd']\n"
     ]
    }
   ],
   "source": [
    "l = []\n",
    "for i in range(10):\n",
    "    if i%2 != 0:\n",
    "        l.append(\"odd\")\n",
    "    else:\n",
    "        l.append(\"even\")\n",
    "print(l)"
   ]
  },
  {
   "cell_type": "code",
   "execution_count": 102,
   "id": "8e7dc59e",
   "metadata": {},
   "outputs": [
    {
     "data": {
      "text/plain": [
       "['even', 'odd', 'even', 'odd', 'even', 'odd', 'even', 'odd', 'even', 'odd']"
      ]
     },
     "execution_count": 102,
     "metadata": {},
     "output_type": "execute_result"
    }
   ],
   "source": [
    "[\"odd\" if i%2 !=0 else \"even\"  for i in range(10)]"
   ]
  },
  {
   "cell_type": "code",
   "execution_count": 103,
   "id": "c51faa9e",
   "metadata": {},
   "outputs": [
    {
     "name": "stdout",
     "output_type": "stream",
     "text": [
      "[[0, 1, 2], [0, 1, 2], [0, 1, 2]]\n"
     ]
    }
   ],
   "source": [
    "l =[]\n",
    "for i in range(3):\n",
    "    l.append([])\n",
    "    for j in range(3):\n",
    "        l[i].append(j)\n",
    "print(l)"
   ]
  },
  {
   "cell_type": "code",
   "execution_count": 105,
   "id": "9c2b45ee",
   "metadata": {},
   "outputs": [
    {
     "data": {
      "text/plain": [
       "[[0, 1, 2], [0, 1, 2], [0, 1, 2]]"
      ]
     },
     "execution_count": 105,
     "metadata": {},
     "output_type": "execute_result"
    }
   ],
   "source": [
    "[[j for j in range(3)] for i in range(3)]"
   ]
  },
  {
   "cell_type": "code",
   "execution_count": 106,
   "id": "ff38aea1",
   "metadata": {},
   "outputs": [
    {
     "name": "stdout",
     "output_type": "stream",
     "text": [
      "[0, 6]\n"
     ]
    }
   ],
   "source": [
    "l =[]\n",
    "for i in range(8):\n",
    "        if i%2 == 0:\n",
    "            if i%3 == 0:\n",
    "                l.append(i)\n",
    "print(l)"
   ]
  },
  {
   "cell_type": "code",
   "execution_count": 108,
   "id": "adc17fe7",
   "metadata": {},
   "outputs": [
    {
     "data": {
      "text/plain": [
       "[0, 6]"
      ]
     },
     "execution_count": 108,
     "metadata": {},
     "output_type": "execute_result"
    }
   ],
   "source": [
    "[ i for i in range(8) if i %2 == 0 if i%3 == 0 ]"
   ]
  },
  {
   "cell_type": "code",
   "execution_count": 109,
   "id": "7fa2c3cd",
   "metadata": {},
   "outputs": [
    {
     "data": {
      "text/plain": [
       "[0, 1, 2, 3, 4, 5, 6, 7]"
      ]
     },
     "execution_count": 109,
     "metadata": {},
     "output_type": "execute_result"
    }
   ],
   "source": [
    "l =[]\n",
    "for i in range(8):\n",
    "    l.append(i)\n",
    "l"
   ]
  },
  {
   "cell_type": "code",
   "execution_count": 113,
   "id": "931efa56",
   "metadata": {},
   "outputs": [
    {
     "data": {
      "text/plain": [
       "['test', 'yes', 'no', 'test', 'test', 'test', 'test', 'test']"
      ]
     },
     "execution_count": 113,
     "metadata": {},
     "output_type": "execute_result"
    }
   ],
   "source": [
    "j =[]\n",
    "for i in l:\n",
    "    if i == 1:\n",
    "        j.append(\"yes\")\n",
    "    elif i == 2:\n",
    "        j.append(\"no\")\n",
    "    else:\n",
    "        j.append(\"test\")\n",
    "j\n",
    "        "
   ]
  },
  {
   "cell_type": "code",
   "execution_count": 115,
   "id": "c06a15cb",
   "metadata": {},
   "outputs": [
    {
     "data": {
      "text/plain": [
       "['test', 'yes', 'no', 'test', 'test', 'test', 'test', 'test']"
      ]
     },
     "execution_count": 115,
     "metadata": {},
     "output_type": "execute_result"
    }
   ],
   "source": [
    "[\"yes\" if i==1 else \"no\" if i ==2 else \"test\" for i in l]"
   ]
  },
  {
   "cell_type": "code",
   "execution_count": 119,
   "id": "1c6c56ca",
   "metadata": {},
   "outputs": [
    {
     "name": "stdout",
     "output_type": "stream",
     "text": [
      "1\n",
      "1\n",
      "2\n",
      "4\n",
      "8\n",
      "16\n",
      "32\n",
      "64\n",
      "128\n",
      "256\n"
     ]
    }
   ],
   "source": [
    "a = 1\n",
    "b =1\n",
    "# for i in range(10):\n",
    "#     print(a)\n",
    "#     a,b = b,a+b\n",
    "for i in range(10):\n",
    "    print(a)\n",
    "    a=b  \n",
    "    b=a+b\n"
   ]
  },
  {
   "cell_type": "code",
   "execution_count": null,
   "id": "85d006db",
   "metadata": {},
   "outputs": [],
   "source": []
  }
 ],
 "metadata": {
  "kernelspec": {
   "display_name": "Python 3 (ipykernel)",
   "language": "python",
   "name": "python3"
  },
  "language_info": {
   "codemirror_mode": {
    "name": "ipython",
    "version": 3
   },
   "file_extension": ".py",
   "mimetype": "text/x-python",
   "name": "python",
   "nbconvert_exporter": "python",
   "pygments_lexer": "ipython3",
   "version": "3.9.7"
  }
 },
 "nbformat": 4,
 "nbformat_minor": 5
}
