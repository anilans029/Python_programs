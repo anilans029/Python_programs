{
 "cells": [
  {
   "cell_type": "code",
   "execution_count": 2,
   "id": "50c637bd",
   "metadata": {},
   "outputs": [],
   "source": [
    "import logging as lg\n",
    "import os"
   ]
  },
  {
   "cell_type": "code",
   "execution_count": 2,
   "id": "b56f617c",
   "metadata": {},
   "outputs": [],
   "source": [
    "os.mkdir(\"logging\")\n",
    "\n"
   ]
  },
  {
   "cell_type": "code",
   "execution_count": 3,
   "id": "dcfc168f",
   "metadata": {},
   "outputs": [],
   "source": [
    "os.chdir(os.getcwd()+\"//logging\")"
   ]
  },
  {
   "cell_type": "code",
   "execution_count": 4,
   "id": "b9bd52cb",
   "metadata": {},
   "outputs": [
    {
     "data": {
      "text/plain": [
       "'C:\\\\Users\\\\anils\\\\i_neuron_course\\\\logging'"
      ]
     },
     "execution_count": 4,
     "metadata": {},
     "output_type": "execute_result"
    }
   ],
   "source": [
    "pwd()"
   ]
  },
  {
   "cell_type": "code",
   "execution_count": 5,
   "id": "f77ce914",
   "metadata": {},
   "outputs": [],
   "source": [
    "# when we call This will all the information in the file test.log\n",
    "# format here is used to log the time also \n",
    "lg.basicConfig(filename = \"test.log\", level = lg.INFO, format = '%(asctime)s %(message)s')\n"
   ]
  },
  {
   "cell_type": "code",
   "execution_count": 6,
   "id": "ccfd54b6",
   "metadata": {},
   "outputs": [],
   "source": [
    "lg.info(\" I am going to start my program\")"
   ]
  },
  {
   "cell_type": "code",
   "execution_count": 7,
   "id": "5cc7b034",
   "metadata": {},
   "outputs": [],
   "source": [
    "lg.warning(\"this is my first warning to modify it\")"
   ]
  },
  {
   "cell_type": "code",
   "execution_count": 8,
   "id": "51beee60",
   "metadata": {},
   "outputs": [],
   "source": [
    "lg.error(\"this is the error\")"
   ]
  },
  {
   "cell_type": "code",
   "execution_count": 1,
   "id": "b86ebdd2",
   "metadata": {},
   "outputs": [],
   "source": [
    "import os\n",
    "import logging as lg\n",
    "os.chdir(os.getcwd()+\"\\\\logging\")"
   ]
  },
  {
   "cell_type": "code",
   "execution_count": 2,
   "id": "bbc9b9f5",
   "metadata": {},
   "outputs": [],
   "source": [
    "lg.basicConfig(filename = \"test1.log\", level = lg.INFO, format = \"%(asctime)s %(message)s\")"
   ]
  },
  {
   "cell_type": "code",
   "execution_count": 3,
   "id": "6ee3f01c",
   "metadata": {},
   "outputs": [
    {
     "data": {
      "text/plain": [
       "5"
      ]
     },
     "execution_count": 3,
     "metadata": {},
     "output_type": "execute_result"
    }
   ],
   "source": [
    "def add(a,b):\n",
    "    lg.info(\"this is the starting of the code.\")\n",
    "    return a+b\n",
    "add(2,3)"
   ]
  },
  {
   "cell_type": "code",
   "execution_count": 4,
   "id": "a9405a44",
   "metadata": {},
   "outputs": [],
   "source": [
    "lg.shutdown()"
   ]
  },
  {
   "cell_type": "markdown",
   "id": "4d772f9d",
   "metadata": {},
   "source": [
    "1 -> create a logger in your code\n",
    "2 -> create one function which can take any no.of inpurt as an argument and it will be able to return sum of it\n",
    "3 -> captur user inpurt in log\n",
    "4 -> give user instruction in log file\n",
    "5 -> read a log file from python code and show all the log in console"
   ]
  },
  {
   "cell_type": "code",
   "execution_count": 1,
   "id": "cb7b9bac",
   "metadata": {},
   "outputs": [],
   "source": [
    "import logging as lg\n",
    "import os"
   ]
  },
  {
   "cell_type": "code",
   "execution_count": 2,
   "id": "0ff70682",
   "metadata": {},
   "outputs": [
    {
     "data": {
      "text/plain": [
       "'C:\\\\Users\\\\anils\\\\i_neuron_course'"
      ]
     },
     "execution_count": 2,
     "metadata": {},
     "output_type": "execute_result"
    }
   ],
   "source": [
    "pwd()"
   ]
  },
  {
   "cell_type": "code",
   "execution_count": 3,
   "id": "3f208d16",
   "metadata": {},
   "outputs": [],
   "source": [
    "if os.getcwd() ==\"C:\\\\Users\\\\anils\\\\i_neuron_course\\\\logging\":\n",
    "    pass\n",
    "else:\n",
    "    os.chdir(os.getcwd()+\"\\\\logging\")"
   ]
  },
  {
   "cell_type": "code",
   "execution_count": 4,
   "id": "6aad3c11",
   "metadata": {},
   "outputs": [],
   "source": [
    "lg.basicConfig(filename = \"test3.log\", format = \"%(asctime)s %(message)s\", level = lg.INFO)"
   ]
  },
  {
   "cell_type": "code",
   "execution_count": 12,
   "id": "c2b9f14a",
   "metadata": {},
   "outputs": [
    {
     "name": "stdout",
     "output_type": "stream",
     "text": [
      "2021-12-18 13:42:20,041 Start of addition funtion\n",
      "2021-12-18 13:52:48,349 Start of addition funtion\n",
      "2021-12-18 13:53:07,852 Start of addition funtion\n",
      "2021-12-18 13:53:07,852 user input: 13\n",
      "2021-12-18 13:53:07,852 user input: 13\n",
      "2021-12-18 13:53:07,852 user input: 34\n",
      "2021-12-18 13:53:07,852 user input: 3\n",
      "2021-12-18 14:02:07,381 Start of addition funtion\n",
      "2021-12-18 14:02:07,384 user input: 13\n",
      "2021-12-18 14:02:07,385 user input: 13\n",
      "2021-12-18 14:02:07,385 user input: 34\n",
      "2021-12-18 14:02:07,385 user input: 3\n",
      "2021-12-18 14:02:30,454 Start of addition funtion\n",
      "2021-12-18 14:02:30,454 user input: 13\n",
      "2021-12-18 14:02:30,454 user input: 13\n",
      "2021-12-18 14:02:30,454 user input: 34\n",
      "2021-12-18 14:02:30,455 user input: 3\n",
      "\n"
     ]
    }
   ],
   "source": [
    "def addition(*args):\n",
    "    lg.info(\"Start of addition funtion\")\n",
    "    for i in args:\n",
    "        lg.info(\"user input: \"+ str(i))\n",
    "    return sum(args)\n",
    "\n",
    "addition(13,13,34,3)\n",
    "if os.path.exists(\"test3.log\"):\n",
    "        f = open(\"test3.log\",\"r+\")\n",
    "        print(f.read())"
   ]
  },
  {
   "cell_type": "code",
   "execution_count": 10,
   "id": "a045654a",
   "metadata": {},
   "outputs": [
    {
     "data": {
      "text/plain": [
       "''"
      ]
     },
     "execution_count": 10,
     "metadata": {},
     "output_type": "execute_result"
    }
   ],
   "source": [
    "os.path.dirname(\"test3.log\n",
    "                \")"
   ]
  },
  {
   "cell_type": "code",
   "execution_count": 1,
   "id": "6ea671c5",
   "metadata": {},
   "outputs": [
    {
     "name": "stderr",
     "output_type": "stream",
     "text": [
      "root - INFO - this is my first test code for log)\n",
      "user1 - INFO - this is user 1 information)\n",
      "user2 - DEBUG - this is user2 debug)\n",
      "user3 - WARNING - this is user 3 warning)\n"
     ]
    }
   ],
   "source": [
    "import logging as lg\n",
    "import os\n",
    "if os.getcwd() ==\"C:\\\\Users\\\\anils\\\\i_neuron_course\\\\logging\":\n",
    "    pass\n",
    "else:\n",
    "    os.chdir(os.getcwd()+\"\\\\logging\")\n",
    "lg.basicConfig(filename = \"test6.log\", level = lg.DEBUG, format = \"%(name)s %(levelname)s %(asctime)s %(message)s)\") \n",
    "\n",
    "# create handlers\n",
    "\n",
    "console_log = lg.StreamHandler()\n",
    "console_log.setLevel(lg.DEBUG)\n",
    "\n",
    "# create formatters and add it to handlers\n",
    "format = lg.Formatter(\"%(name)s - %(levelname)s - %(message)s)\")\n",
    "console_log.setFormatter(format)\n",
    "lg.getLogger('').addHandler(console_log)\n",
    "lg.info(\"this is my first test code for log\")\n",
    "\n",
    "#create custom loggers\n",
    "\n",
    "logger1  = lg.getLogger('user1')\n",
    "logger2  = lg.getLogger(\"user2\")\n",
    "logger3  = lg.getLogger(\"user3\")\n",
    "logger1.info(\"this is user 1 information\")\n",
    "logger2.debug(\"this is user2 debug\")\n",
    "logger3.warning(\"this is user 3 warning\")             "
   ]
  },
  {
   "cell_type": "code",
   "execution_count": 3,
   "id": "c7562d36",
   "metadata": {},
   "outputs": [
    {
     "name": "stderr",
     "output_type": "stream",
     "text": [
      "%(name)s - %(levelname)s - %(message)s)\n",
      "root - WARNING - This is a warning)\n",
      "root - WARNING - This is a warning\n",
      "%(name)s - %(levelname)s - %(message)s)\n",
      "root - ERROR - This is an error)\n",
      "root - ERROR - This is an error\n"
     ]
    }
   ],
   "source": [
    "# logging_example.py\n",
    "\n",
    "import logging\n",
    "import os\n",
    "if os.getcwd() ==\"C:\\\\Users\\\\anils\\\\i_neuron_course\\\\logging\":\n",
    "    pass\n",
    "else:\n",
    "    os.chdir(os.getcwd()+\"\\\\logging\")\n",
    "logging.basicConfig(filename = \"test5.log\", level = logging.DEBUG, format = \"%(name)s %(levelname)s %(asctime)s %(message)s)\") \n",
    "\n",
    "# Create a custom logger\n",
    "logger = logging.getLogger('')\n",
    "\n",
    "# Create handlers\n",
    "c_handler = logging.StreamHandler()\n",
    "c_handler.setLevel(logging.WARNING)\n",
    "\n",
    "# Create formatters and add it to handlers\n",
    "c_format = logging.Formatter('%(name)s - %(levelname)s - %(message)s')\n",
    "c_handler.setFormatter(c_format)\n",
    "\n",
    "# Add handlers to the logger\n",
    "logger.addHandler(c_handler)\n",
    "\n",
    "logger.warning('This is a warning')\n",
    "logger.error('This is an error')"
   ]
  },
  {
   "cell_type": "markdown",
   "id": "bcac8a0f",
   "metadata": {},
   "source": [
    "# Debugger"
   ]
  },
  {
   "cell_type": "code",
   "execution_count": 1,
   "id": "8f6e8e2e",
   "metadata": {},
   "outputs": [],
   "source": [
    "import ipdb"
   ]
  },
  {
   "cell_type": "code",
   "execution_count": 5,
   "id": "ea8e9469",
   "metadata": {},
   "outputs": [],
   "source": [
    "def test():\n",
    "    ipdb.set_trace()\n",
    "    l = []\n",
    "    for i in range(10):\n",
    "        l.append(i)\n",
    "        print(f\"{i} appended\")\n",
    "    return l\n"
   ]
  },
  {
   "cell_type": "code",
   "execution_count": null,
   "id": "954243d1",
   "metadata": {},
   "outputs": [
    {
     "name": "stdout",
     "output_type": "stream",
     "text": [
      "> \u001b[1;32mc:\\users\\anils\\appdata\\local\\temp\\ipykernel_12148\\1823531661.py\u001b[0m(3)\u001b[0;36mtest\u001b[1;34m()\u001b[0m\n",
      "\n"
     ]
    }
   ],
   "source": [
    "test()"
   ]
  },
  {
   "cell_type": "markdown",
   "id": "9028d5ab",
   "metadata": {},
   "source": [
    "# Challenge"
   ]
  },
  {
   "cell_type": "markdown",
   "id": "f30b6963",
   "metadata": {},
   "source": []
  }
 ],
 "metadata": {
  "kernelspec": {
   "display_name": "Python 3 (ipykernel)",
   "language": "python",
   "name": "python3"
  },
  "language_info": {
   "codemirror_mode": {
    "name": "ipython",
    "version": 3
   },
   "file_extension": ".py",
   "mimetype": "text/x-python",
   "name": "python",
   "nbconvert_exporter": "python",
   "pygments_lexer": "ipython3",
   "version": "3.9.7"
  }
 },
 "nbformat": 4,
 "nbformat_minor": 5
}
