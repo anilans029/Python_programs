{
 "cells": [
  {
   "cell_type": "code",
   "execution_count": 1,
   "id": "099a7557",
   "metadata": {},
   "outputs": [],
   "source": [
    "a = \"Hi all my name is anil and my employee id is '11607787'\""
   ]
  },
  {
   "cell_type": "code",
   "execution_count": 2,
   "id": "296c0a95",
   "metadata": {},
   "outputs": [
    {
     "data": {
      "text/plain": [
       "' is fu'"
      ]
     },
     "execution_count": 2,
     "metadata": {},
     "output_type": "execute_result"
    }
   ],
   "source": [
    " s = \"this is full stack datascience class.\"\n",
    "s[4:10:1]"
   ]
  },
  {
   "cell_type": "code",
   "execution_count": 4,
   "id": "abf773f4",
   "metadata": {},
   "outputs": [
    {
     "name": "stdout",
     "output_type": "stream",
     "text": [
      "t\n",
      "h\n",
      "i\n",
      "s\n",
      " \n",
      "i\n",
      "s\n",
      " \n",
      "f\n",
      "u\n",
      "l\n",
      "l\n",
      " \n",
      "s\n",
      "t\n",
      "a\n",
      "c\n",
      "k\n",
      " \n",
      "d\n",
      "a\n",
      "t\n",
      "a\n",
      "s\n",
      "c\n",
      "i\n",
      "e\n",
      "n\n",
      "c\n",
      "e\n",
      " \n",
      "c\n",
      "l\n",
      "a\n",
      "s\n",
      "s\n",
      ".\n"
     ]
    }
   ],
   "source": [
    "for i in range(len(s)):\n",
    "    print(s[i])"
   ]
  },
  {
   "cell_type": "code",
   "execution_count": 5,
   "id": "9dcec9e9",
   "metadata": {},
   "outputs": [
    {
     "data": {
      "text/plain": [
       "'.ssalc ecneicsatad kcats lluf si siht'"
      ]
     },
     "execution_count": 5,
     "metadata": {},
     "output_type": "execute_result"
    }
   ],
   "source": [
    "s[::-1]"
   ]
  },
  {
   "cell_type": "code",
   "execution_count": 6,
   "id": "744dffa9",
   "metadata": {},
   "outputs": [
    {
     "ename": "TypeError",
     "evalue": "'str' object does not support item assignment",
     "output_type": "error",
     "traceback": [
      "\u001b[1;31m---------------------------------------------------------------------------\u001b[0m",
      "\u001b[1;31mTypeError\u001b[0m                                 Traceback (most recent call last)",
      "\u001b[1;32m~\\AppData\\Local\\Temp/ipykernel_13788/2149782055.py\u001b[0m in \u001b[0;36m<module>\u001b[1;34m\u001b[0m\n\u001b[1;32m----> 1\u001b[1;33m \u001b[0ms\u001b[0m\u001b[1;33m[\u001b[0m\u001b[1;36m0\u001b[0m\u001b[1;33m]\u001b[0m \u001b[1;33m=\u001b[0m \u001b[1;34m'a'\u001b[0m\u001b[1;33m\u001b[0m\u001b[1;33m\u001b[0m\u001b[0m\n\u001b[0m",
      "\u001b[1;31mTypeError\u001b[0m: 'str' object does not support item assignment"
     ]
    }
   ],
   "source": [
    "s[0] = 'a'"
   ]
  },
  {
   "cell_type": "code",
   "execution_count": 7,
   "id": "7a6ea8de",
   "metadata": {},
   "outputs": [],
   "source": [
    "l =[123, \"ans\",True]"
   ]
  },
  {
   "cell_type": "code",
   "execution_count": 8,
   "id": "d091ff22",
   "metadata": {},
   "outputs": [],
   "source": [
    "l[1]= \"anil\""
   ]
  },
  {
   "cell_type": "code",
   "execution_count": 9,
   "id": "58527cea",
   "metadata": {},
   "outputs": [
    {
     "data": {
      "text/plain": [
       "[123, 'anil', True]"
      ]
     },
     "execution_count": 9,
     "metadata": {},
     "output_type": "execute_result"
    }
   ],
   "source": [
    "l"
   ]
  },
  {
   "cell_type": "code",
   "execution_count": 10,
   "id": "1cc962a5",
   "metadata": {},
   "outputs": [
    {
     "data": {
      "text/plain": [
       "'.sl cecaa ct lfs it'"
      ]
     },
     "execution_count": 10,
     "metadata": {},
     "output_type": "execute_result"
    }
   ],
   "source": [
    "s[::-2]"
   ]
  },
  {
   "cell_type": "code",
   "execution_count": 11,
   "id": "5e371fe6",
   "metadata": {},
   "outputs": [
    {
     "data": {
      "text/plain": [
       "'.ssalc ecneicsatad kcats lluf si siht'"
      ]
     },
     "execution_count": 11,
     "metadata": {},
     "output_type": "execute_result"
    }
   ],
   "source": [
    "s[::-1]"
   ]
  },
  {
   "cell_type": "code",
   "execution_count": 12,
   "id": "9acb1bdb",
   "metadata": {},
   "outputs": [
    {
     "data": {
      "text/plain": [
       "'this is full stack datascience class.'"
      ]
     },
     "execution_count": 12,
     "metadata": {},
     "output_type": "execute_result"
    }
   ],
   "source": [
    "s"
   ]
  },
  {
   "cell_type": "code",
   "execution_count": 29,
   "id": "ec7cd83b",
   "metadata": {},
   "outputs": [
    {
     "data": {
      "text/plain": [
       "3"
      ]
     },
     "execution_count": 29,
     "metadata": {},
     "output_type": "execute_result"
    }
   ],
   "source": [
    "s\n",
    "s.find(\"name\")"
   ]
  },
  {
   "cell_type": "code",
   "execution_count": 14,
   "id": "d1a9fd74",
   "metadata": {},
   "outputs": [
    {
     "data": {
      "text/plain": [
       "8"
      ]
     },
     "execution_count": 14,
     "metadata": {},
     "output_type": "execute_result"
    }
   ],
   "source": [
    "s.find(\"f\")"
   ]
  },
  {
   "cell_type": "markdown",
   "id": "8d992c36",
   "metadata": {},
   "source": [
    "# from the string find the locations of 'name' in that string "
   ]
  },
  {
   "cell_type": "code",
   "execution_count": 35,
   "id": "12b3952d",
   "metadata": {},
   "outputs": [
    {
     "name": "stdout",
     "output_type": "stream",
     "text": [
      "3\n",
      "4\n",
      "5\n",
      "6\n",
      "\n",
      "3\n",
      "4\n",
      "5\n",
      "6\n"
     ]
    }
   ],
   "source": [
    "# s = \"my name is anil and name is good\"\n",
    "# for i in range(len(s)):\n",
    "#     if s[i] == 'n' and s[i+1] =='a' and s[i+2] =='m' and s[i+3] == 'e':\n",
    "#         print(f\"n: {i} a:{i+1} m:{i+2} e:{i+3}\")\n",
    "\n",
    "n = s.find(\"name\")\n",
    "\n",
    "#s[n:len(\"name\")+n]\n",
    "j =0\n",
    "for i in s[n:len(\"name\")+n]:\n",
    "    print(n+j)\n",
    "    j+=1\n",
    "print()  \n",
    "b = s.find(\"name\")\n",
    "for i in range(len(\"name\")):\n",
    "    print(b+i)"
   ]
  },
  {
   "cell_type": "code",
   "execution_count": 36,
   "id": "b3b6e894",
   "metadata": {},
   "outputs": [
    {
     "data": {
      "text/plain": [
       "4"
      ]
     },
     "execution_count": 36,
     "metadata": {},
     "output_type": "execute_result"
    }
   ],
   "source": [
    "s.count(\"n\")"
   ]
  },
  {
   "cell_type": "code",
   "execution_count": 37,
   "id": "303d0e06",
   "metadata": {},
   "outputs": [
    {
     "data": {
      "text/plain": [
       "1"
      ]
     },
     "execution_count": 37,
     "metadata": {},
     "output_type": "execute_result"
    }
   ],
   "source": [
    "s.count(\"anil\")"
   ]
  },
  {
   "cell_type": "code",
   "execution_count": 41,
   "id": "1acf75d7",
   "metadata": {},
   "outputs": [
    {
     "data": {
      "text/plain": [
       "'my name is anil and name is good'"
      ]
     },
     "execution_count": 41,
     "metadata": {},
     "output_type": "execute_result"
    }
   ],
   "source": [
    "s"
   ]
  },
  {
   "cell_type": "code",
   "execution_count": 38,
   "id": "14171b30",
   "metadata": {},
   "outputs": [
    {
     "data": {
      "text/plain": [
       "['my', 'name', 'is', 'anil', 'and', 'name', 'is', 'good']"
      ]
     },
     "execution_count": 38,
     "metadata": {},
     "output_type": "execute_result"
    }
   ],
   "source": [
    "s.split() #based on the space by default"
   ]
  },
  {
   "cell_type": "code",
   "execution_count": 40,
   "id": "0cd1a535",
   "metadata": {},
   "outputs": [
    {
     "data": {
      "text/plain": [
       "['my name ', ' anil and name ', ' good']"
      ]
     },
     "execution_count": 40,
     "metadata": {},
     "output_type": "execute_result"
    }
   ],
   "source": [
    "s.split('is')"
   ]
  },
  {
   "cell_type": "code",
   "execution_count": 42,
   "id": "1304af3b",
   "metadata": {},
   "outputs": [
    {
     "data": {
      "text/plain": [
       "'MY NAME IS ANIL AND NAME IS GOOD'"
      ]
     },
     "execution_count": 42,
     "metadata": {},
     "output_type": "execute_result"
    }
   ],
   "source": [
    "s.upper()"
   ]
  },
  {
   "cell_type": "code",
   "execution_count": 43,
   "id": "23dff781",
   "metadata": {},
   "outputs": [
    {
     "data": {
      "text/plain": [
       "'my name is anil and name is good'"
      ]
     },
     "execution_count": 43,
     "metadata": {},
     "output_type": "execute_result"
    }
   ],
   "source": [
    "s.lower()"
   ]
  },
  {
   "cell_type": "code",
   "execution_count": 44,
   "id": "137f3831",
   "metadata": {},
   "outputs": [
    {
     "data": {
      "text/plain": [
       "'MY NAME IS ANIL AND NAME IS GOOD'"
      ]
     },
     "execution_count": 44,
     "metadata": {},
     "output_type": "execute_result"
    }
   ],
   "source": [
    "s.swapcase()"
   ]
  },
  {
   "cell_type": "code",
   "execution_count": 45,
   "id": "91c945d3",
   "metadata": {},
   "outputs": [
    {
     "data": {
      "text/plain": [
       "'m y   n a m e   i s   a n i l   a n d   n a m e   i s   g o o d'"
      ]
     },
     "execution_count": 45,
     "metadata": {},
     "output_type": "execute_result"
    }
   ],
   "source": [
    "\" \".join(s)"
   ]
  },
  {
   "cell_type": "code",
   "execution_count": 46,
   "id": "6d0ea17e",
   "metadata": {},
   "outputs": [
    {
     "data": {
      "text/plain": [
       "'mansyans ansnansaansmanseans ansianssans ansaansnansianslans ansaansnansdans ansnansaansmanseans ansianssans ansgansoansoansd'"
      ]
     },
     "execution_count": 46,
     "metadata": {},
     "output_type": "execute_result"
    }
   ],
   "source": [
    "\"ans\".join(s)"
   ]
  },
  {
   "cell_type": "code",
   "execution_count": 49,
   "id": "35951c4f",
   "metadata": {},
   "outputs": [
    {
     "data": {
      "text/plain": [
       "'mnil'"
      ]
     },
     "execution_count": 49,
     "metadata": {},
     "output_type": "execute_result"
    }
   ],
   "source": [
    "name = \"anil\"\n",
    "name.replace('a', 'm')"
   ]
  },
  {
   "cell_type": "code",
   "execution_count": 50,
   "id": "52872b23",
   "metadata": {},
   "outputs": [
    {
     "data": {
      "text/plain": [
       "'anil'"
      ]
     },
     "execution_count": 50,
     "metadata": {},
     "output_type": "execute_result"
    }
   ],
   "source": [
    "name\n"
   ]
  },
  {
   "cell_type": "markdown",
   "id": "549c4087",
   "metadata": {},
   "source": [
    "a = \" we all are a part of Full Stack\"\n",
    "\n",
    "1. normalize all one string in lower case\n",
    "2. find number of occurences of 'a' in entire data\n",
    "3. find all one location of 'a' in string\n",
    "4. replace all the 'a' with 'iNeuron'\n",
    "5. print all the word as a list."
   ]
  },
  {
   "cell_type": "code",
   "execution_count": 63,
   "id": "663bf652",
   "metadata": {},
   "outputs": [
    {
     "name": "stdout",
     "output_type": "stream",
     "text": [
      "we all are a part of full stack\n",
      "\n",
      "5\n",
      "\n",
      "3\n",
      "7\n",
      "11\n",
      "14\n",
      "28\n",
      "we iNeuronll iNeuronre iNeuron piNeuronrt of full stiNeuronck\n",
      "\n",
      "['we', 'iNeuronll', 'iNeuronre', 'iNeuron', 'piNeuronrt', 'of', 'full', 'stiNeuronck']\n"
     ]
    }
   ],
   "source": [
    "a = \"we all are a part of Full Stack\"\n",
    "\n",
    "b =a. lower()\n",
    "print(b)\n",
    "print()\n",
    "n = b.count('a')\n",
    "print(n)\n",
    "print()\n",
    "for i in range(len(b)) :\n",
    "    if b[i] == 'a' :\n",
    "        print(i)\n",
    "c = b.replace('a','iNeuron')\n",
    "print(c)\n",
    "print()\n",
    "print(c.split())"
   ]
  },
  {
   "cell_type": "code",
   "execution_count": 64,
   "id": "7e8be459",
   "metadata": {},
   "outputs": [
    {
     "data": {
      "text/plain": [
       "'Anil'"
      ]
     },
     "execution_count": 64,
     "metadata": {},
     "output_type": "execute_result"
    }
   ],
   "source": [
    "s = \"anil\"\n",
    "s.title()"
   ]
  },
  {
   "cell_type": "code",
   "execution_count": 66,
   "id": "553addb9",
   "metadata": {},
   "outputs": [
    {
     "data": {
      "text/plain": [
       "False"
      ]
     },
     "execution_count": 66,
     "metadata": {},
     "output_type": "execute_result"
    }
   ],
   "source": [
    "s.istitle()"
   ]
  },
  {
   "cell_type": "code",
   "execution_count": 73,
   "id": "5c67d6fd",
   "metadata": {},
   "outputs": [
    {
     "name": "stdout",
     "output_type": "stream",
     "text": [
      "l\n",
      "i\n",
      "n\n",
      "a\n",
      " \n",
      "s\n",
      "i\n",
      " \n",
      "e\n",
      "m\n",
      "a\n",
      "n\n",
      " \n",
      "y\n",
      "M\n"
     ]
    }
   ],
   "source": [
    "s = \"My name is anil\"\n",
    "\n",
    "for i in range(len(s),0,-1):\n",
    "    print(s[i-1])"
   ]
  },
  {
   "cell_type": "code",
   "execution_count": 75,
   "id": "206b4f95",
   "metadata": {},
   "outputs": [
    {
     "name": "stdout",
     "output_type": "stream",
     "text": [
      "a is a vowel\n",
      "n is not a vowel\n",
      "i is a vowel\n",
      "l is not a vowel\n",
      "  is not a vowel\n",
      "n is not a vowel\n",
      "a is a vowel\n",
      "g is not a vowel\n",
      "a is a vowel\n",
      "  is not a vowel\n",
      "s is not a vowel\n",
      "a is a vowel\n",
      "i is a vowel\n"
     ]
    }
   ],
   "source": [
    "#checking the string containing vowels or not\n",
    "\n",
    "name = \"anil naga sai\"\n",
    "vowels = \"AaEeIiOoUu\"\n",
    "for i in name:\n",
    "    if i in vowels:\n",
    "        print(f\"{i} is a vowel\")\n",
    "    else:\n",
    "        print(f\"{i} is not a vowel\")"
   ]
  },
  {
   "cell_type": "code",
   "execution_count": 77,
   "id": "1f21c074",
   "metadata": {},
   "outputs": [
    {
     "name": "stdout",
     "output_type": "stream",
     "text": [
      " enter the string to check if it is palindrome or not:anil\n",
      "anil is not a palindrome\n"
     ]
    }
   ],
   "source": [
    "s = input(\" enter the string to check if it is palindrome or not:\")\n",
    "s1 = s[::-1]\n",
    "if s == s1:\n",
    "    print(\"{} is a palindrome\".format(s))\n",
    "else: \n",
    "    print(\"{} is not a palindrome\".format(s))"
   ]
  },
  {
   "cell_type": "code",
   "execution_count": 79,
   "id": "cbe39942",
   "metadata": {},
   "outputs": [
    {
     "data": {
      "text/plain": [
       "[1, 2, 3, 'anil', 'a', 'n', 's']"
      ]
     },
     "execution_count": 79,
     "metadata": {},
     "output_type": "execute_result"
    }
   ],
   "source": [
    "l =[ 1,2,3,\"anil\"]\n",
    "s =\"ans\"\n",
    "l+list(s)"
   ]
  },
  {
   "cell_type": "code",
   "execution_count": 87,
   "id": "16860787",
   "metadata": {},
   "outputs": [
    {
     "name": "stdout",
     "output_type": "stream",
     "text": [
      "3\n",
      "7\n"
     ]
    },
    {
     "data": {
      "text/plain": [
       "32"
      ]
     },
     "execution_count": 87,
     "metadata": {},
     "output_type": "execute_result"
    }
   ],
   "source": [
    "n = \"my name is anil and my initital name is pichika\"\n",
    "a = n.find(\"name\")\n",
    "print(a)\n",
    "b = a + len(\"name\")\n",
    "print(b)\n",
    "n.find(\"name\",b,37)"
   ]
  },
  {
   "cell_type": "code",
   "execution_count": null,
   "id": "7557c82b",
   "metadata": {},
   "outputs": [],
   "source": []
  }
 ],
 "metadata": {
  "kernelspec": {
   "display_name": "Python 3 (ipykernel)",
   "language": "python",
   "name": "python3"
  },
  "language_info": {
   "codemirror_mode": {
    "name": "ipython",
    "version": 3
   },
   "file_extension": ".py",
   "mimetype": "text/x-python",
   "name": "python",
   "nbconvert_exporter": "python",
   "pygments_lexer": "ipython3",
   "version": "3.9.7"
  }
 },
 "nbformat": 4,
 "nbformat_minor": 5
}
