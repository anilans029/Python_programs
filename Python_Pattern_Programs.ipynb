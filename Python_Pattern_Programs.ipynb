{
 "cells": [
  {
   "cell_type": "markdown",
   "id": "ef14c18d",
   "metadata": {},
   "source": [
    "# Pattern 1\n"
   ]
  },
  {
   "cell_type": "code",
   "execution_count": 1,
   "id": "db307ac7",
   "metadata": {},
   "outputs": [
    {
     "name": "stdout",
     "output_type": "stream",
     "text": [
      "enter the no.of rows:4\n",
      "* \n",
      "* * \n",
      "* * * \n",
      "* * * * \n"
     ]
    }
   ],
   "source": [
    "n = int(input(\"enter the no.of rows:\"))\n",
    "for i in range(n):\n",
    "    for j in range(0,i+1):\n",
    "        print(\"* \", end =\"\")\n",
    "    print(\"\\r\")"
   ]
  },
  {
   "cell_type": "markdown",
   "id": "a59ba64f",
   "metadata": {},
   "source": [
    "\n",
    "# Pattern2"
   ]
  },
  {
   "cell_type": "code",
   "execution_count": 2,
   "id": "5a21537e",
   "metadata": {
    "scrolled": true
   },
   "outputs": [
    {
     "name": "stdout",
     "output_type": "stream",
     "text": [
      "enter no.of rows:4\n",
      "*\n",
      "***\n",
      "*****\n",
      "*******\n",
      "\n",
      "*\n",
      "***\n",
      "*****\n",
      "*******\n"
     ]
    }
   ],
   "source": [
    "n = int(input(\"enter no.of rows:\"))\n",
    "k =1\n",
    "for i in range(n):\n",
    "    for j in range(k):\n",
    "        print(\"*\",end = \"\")\n",
    "    k += 2\n",
    "    print(\"\\r\")\n",
    "print()   \n",
    "for i in range(n):\n",
    "    for j in range(2*i+1):\n",
    "        print(\"*\", end =\"\")\n",
    "    print(\"\\r\")"
   ]
  },
  {
   "cell_type": "markdown",
   "id": "680b3e0d",
   "metadata": {},
   "source": [
    "# Pattern 3"
   ]
  },
  {
   "cell_type": "code",
   "execution_count": 3,
   "id": "b46d300e",
   "metadata": {},
   "outputs": [
    {
     "name": "stdout",
     "output_type": "stream",
     "text": [
      "enter the no.of rows:4\n",
      "   *\n",
      "  ***\n",
      " *****\n",
      "*******\n"
     ]
    }
   ],
   "source": [
    "n = int(input(\"enter the no.of rows:\"))\n",
    "for i in range(n):\n",
    "    for j in range(1,n-i):\n",
    "        print(\" \",end = \"\")\n",
    "    for j in range(2*i+1):\n",
    "        # for j in range(2*i+1):// here we can print pyramid in the form 1 star,2 star,3star also by \n",
    "        print(\"*\",end = \"\")\n",
    "        \n",
    "    print(\"\\r\")"
   ]
  },
  {
   "cell_type": "markdown",
   "id": "750961ea",
   "metadata": {},
   "source": [
    "# Pattern 4\n",
    "same above program without using for loop"
   ]
  },
  {
   "cell_type": "code",
   "execution_count": 4,
   "id": "ff421dee",
   "metadata": {},
   "outputs": [
    {
     "name": "stdout",
     "output_type": "stream",
     "text": [
      "enter the no.of rows:4\n",
      "    * \n",
      "   * * \n",
      "  * * * \n",
      " * * * * \n",
      "    *\n",
      "   ***\n",
      "  *****\n",
      " *******\n"
     ]
    }
   ],
   "source": [
    "n = int(input(\"enter the no.of rows:\"))\n",
    "i=0\n",
    "while(i<n):\n",
    "    print(\" \"*(n-i)+\"* \"*(i+1))\n",
    "    i+=1\n",
    "i=0\n",
    "while(i<n):\n",
    "    print(\" \"*(n-i)+\"*\"*(2*i+1))\n",
    "    i+=1\n"
   ]
  },
  {
   "cell_type": "markdown",
   "id": "92c7078f",
   "metadata": {},
   "source": [
    "# Pattern 5"
   ]
  },
  {
   "cell_type": "code",
   "execution_count": 5,
   "id": "cf52812b",
   "metadata": {},
   "outputs": [
    {
     "name": "stdout",
     "output_type": "stream",
     "text": [
      "enter the no.of rows:4\n",
      "* * * * \n",
      " * * * \n",
      "  * * \n",
      "   * \n"
     ]
    }
   ],
   "source": [
    "n = int(input(\"enter the no.of rows:\"))\n",
    "for i in range(n,0,-1):\n",
    "    for j in range(n-i):\n",
    "        print(\" \",end =\"\")\n",
    "    for j in range(i):\n",
    "        print(\"* \",end =\"\")\n",
    "    print(\"\\r\")"
   ]
  },
  {
   "cell_type": "markdown",
   "id": "9ab7ed4b",
   "metadata": {},
   "source": [
    "# Pattern 6"
   ]
  },
  {
   "cell_type": "code",
   "execution_count": 6,
   "id": "7b55f61b",
   "metadata": {},
   "outputs": [
    {
     "name": "stdout",
     "output_type": "stream",
     "text": [
      "enter the no.of rows:4\n",
      "   * \n",
      "  * * \n",
      " * * * \n",
      "* * * * \n",
      " * * * \n",
      "  * * \n",
      "   * \n"
     ]
    }
   ],
   "source": [
    "n = int(input(\"enter the no.of rows:\"))\n",
    "i=0\n",
    "while(i<n):\n",
    "    print(\" \"*(n-i-1)+\"* \"*(i+1))\n",
    "    i+=1\n",
    "i=1\n",
    "while(i<n):\n",
    "    print(\" \"*(i)+\"* \"*(n-i))\n",
    "    i+=1    "
   ]
  },
  {
   "cell_type": "markdown",
   "id": "2dd8197e",
   "metadata": {},
   "source": [
    "# Pattern 6"
   ]
  },
  {
   "cell_type": "code",
   "execution_count": 7,
   "id": "a45c6525",
   "metadata": {},
   "outputs": [
    {
     "name": "stdout",
     "output_type": "stream",
     "text": [
      "enter the no.of rows:4\n",
      "* * * * \n",
      "* * * \n",
      "* * \n",
      "* \n"
     ]
    }
   ],
   "source": [
    "n = int(input(\"enter the no.of rows:\"))\n",
    "for i in range(n,0,-1):\n",
    "    for j in range(i):\n",
    "        print(\"* \",end=\"\")\n",
    "    print(\"\\r\")"
   ]
  },
  {
   "cell_type": "markdown",
   "id": "231a4a7a",
   "metadata": {},
   "source": [
    "# Pattern7"
   ]
  },
  {
   "cell_type": "code",
   "execution_count": 8,
   "id": "ecdebf89",
   "metadata": {
    "scrolled": true
   },
   "outputs": [
    {
     "name": "stdout",
     "output_type": "stream",
     "text": [
      "  * * *   \n",
      "*       * \n",
      "*       * \n",
      "*       * \n",
      "* * * * * \n",
      "*       * \n",
      "*       * \n",
      "*       * \n"
     ]
    }
   ],
   "source": [
    "for i in range(8):\n",
    "    for j in range(5):\n",
    "        if ((j==0 or j==4)and i!= 0)or ((i==0 or i == 4) and(j>0 and j<4)):\n",
    "            print(\"* \",end =\"\")\n",
    "        else:\n",
    "            print(end=\"  \")\n",
    "    print()\n",
    "        \n",
    "                                         "
   ]
  },
  {
   "cell_type": "markdown",
   "id": "829a4d85",
   "metadata": {},
   "source": [
    "# Pattern 8"
   ]
  },
  {
   "cell_type": "code",
   "execution_count": 9,
   "id": "2cb79b14",
   "metadata": {
    "scrolled": true
   },
   "outputs": [
    {
     "name": "stdout",
     "output_type": "stream",
     "text": [
      "* * * *   \r\n",
      "*       * \r\n",
      "*       * \r\n",
      "*       * \r\n",
      "* * * *   \r\n",
      "*       * \r\n",
      "*       * \r\n",
      "*       * \r\n",
      "* * * *   \r\n"
     ]
    }
   ],
   "source": [
    "for i in range(9):\n",
    "    for j in range(5):\n",
    "        if((j==0 or j==4)and(i!=0 and i!= 8 and i!=4)) or ((i ==0 or i==8 or i== 4)and(j!=4)):\n",
    "            print(\"* \",end=\"\")\n",
    "        else:\n",
    "            print(end=\"  \")\n",
    "    print(\"\\r\")"
   ]
  },
  {
   "cell_type": "markdown",
   "id": "bc55bbe6",
   "metadata": {},
   "source": [
    "# Pattern 9"
   ]
  },
  {
   "cell_type": "code",
   "execution_count": 10,
   "id": "8352f050",
   "metadata": {},
   "outputs": [
    {
     "name": "stdout",
     "output_type": "stream",
     "text": [
      " * * * * \r\n",
      "*     \r\n",
      "*     \r\n",
      "*     \r\n",
      "*     \r\n",
      "*     \r\n",
      "*     \r\n",
      " * * * * \r\n"
     ]
    }
   ],
   "source": [
    "for i in range(8):\n",
    "    for j in range(5):\n",
    "        if((j==0) and (i!= 0 and i!= 7)) or ((i==0 or i== 7) and (j!= 0)):\n",
    "            print(\"* \",end =\"\")\n",
    "        else:\n",
    "            print(end =\" \")\n",
    "    print(\"\\r\")"
   ]
  },
  {
   "cell_type": "markdown",
   "id": "4773568a",
   "metadata": {},
   "source": [
    "# Pattern 9"
   ]
  },
  {
   "cell_type": "code",
   "execution_count": 11,
   "id": "488bcd00",
   "metadata": {},
   "outputs": [
    {
     "name": "stdout",
     "output_type": "stream",
     "text": [
      "* * * *   \n",
      "*       * \n",
      "*       * \n",
      "*       * \n",
      "*       * \n",
      "*       * \n",
      "*       * \n",
      "* * * *   \n"
     ]
    }
   ],
   "source": [
    "for i in range(8):\n",
    "    for j in range(5):\n",
    "        if((j ==0 or j == 4)and (i!= 0 and i!=7)) or ((i == 0 or i== 7)and(j!=4)):\n",
    "            print(\"* \", end =\"\")\n",
    "        else:\n",
    "            print(end=\"  \")\n",
    "    print()\n"
   ]
  },
  {
   "cell_type": "markdown",
   "id": "1019e363",
   "metadata": {},
   "source": [
    "# Pattern 10"
   ]
  },
  {
   "cell_type": "code",
   "execution_count": 12,
   "id": "8668736a",
   "metadata": {},
   "outputs": [
    {
     "name": "stdout",
     "output_type": "stream",
     "text": [
      "* * * * * \n",
      "*         \n",
      "*         \n",
      "* * * * * \n",
      "*         \n",
      "*         \n",
      "* * * * * \n"
     ]
    }
   ],
   "source": [
    "for i in range(7):\n",
    "    for j in range(5):\n",
    "        if (j ==0) or (i == 0 or i == 3 or i ==6):\n",
    "            print(\"* \", end=\"\")\n",
    "        else:\n",
    "            print(end =\"  \")\n",
    "    print()"
   ]
  },
  {
   "cell_type": "markdown",
   "id": "e7603276",
   "metadata": {},
   "source": [
    "# Pattern 11"
   ]
  },
  {
   "cell_type": "code",
   "execution_count": 13,
   "id": "d88ec8d1",
   "metadata": {},
   "outputs": [
    {
     "name": "stdout",
     "output_type": "stream",
     "text": [
      "* * * * * \n",
      "*         \n",
      "*         \n",
      "*         \n",
      "* * * * * \n",
      "*         \n",
      "*         \n",
      "*         \n"
     ]
    }
   ],
   "source": [
    "for i in range(8):\n",
    "    for j in range(5):\n",
    "        if(j ==0) or (i == 0 or i == 4):\n",
    "            print(\"* \", end = \"\")\n",
    "        else:\n",
    "            print(end = \"  \")\n",
    "    print()"
   ]
  },
  {
   "cell_type": "markdown",
   "id": "0a5d8378",
   "metadata": {},
   "source": [
    "# Pattern 12"
   ]
  },
  {
   "cell_type": "code",
   "execution_count": 14,
   "id": "186cfe19",
   "metadata": {},
   "outputs": [
    {
     "name": "stdout",
     "output_type": "stream",
     "text": [
      "* * * * *   \n",
      "*           \n",
      "*           \n",
      "*     * * * \n",
      "*       *   \n",
      "*       *   \n",
      "* * * * *   \n"
     ]
    }
   ],
   "source": [
    "for i in range(7):\n",
    "    for j in range(6):\n",
    "        if(( j == 0)or ( j==4 and i>3)) or ((i==0and j<5) or (i==6 and j<5) or(i ==3 and j>2)):\n",
    "            print(\"* \", end = \"\")\n",
    "        else:\n",
    "            print(end =\"  \")\n",
    "    print()"
   ]
  },
  {
   "cell_type": "markdown",
   "id": "98d2d731",
   "metadata": {},
   "source": [
    "# Pattern 13"
   ]
  },
  {
   "cell_type": "code",
   "execution_count": 15,
   "id": "ee6e70ac",
   "metadata": {},
   "outputs": [
    {
     "name": "stdout",
     "output_type": "stream",
     "text": [
      "*       * \n",
      "*       * \n",
      "*       * \n",
      "*       * \n",
      "* * * * * \n",
      "*       * \n",
      "*       * \n",
      "*       * \n"
     ]
    }
   ],
   "source": [
    "for i in range(8):\n",
    "    for j in range(5):\n",
    "        if(j == 0 or j == 4) or ( i == 4 ):\n",
    "            print(\"* \", end = \"\")\n",
    "        else:\n",
    "            print(end=\"  \")\n",
    "    print()"
   ]
  },
  {
   "cell_type": "markdown",
   "id": "d4a82c05",
   "metadata": {},
   "source": [
    "# Pattern 14"
   ]
  },
  {
   "cell_type": "code",
   "execution_count": 16,
   "id": "8933a75f",
   "metadata": {},
   "outputs": [
    {
     "name": "stdout",
     "output_type": "stream",
     "text": [
      "* * * * * \n",
      "    *     \n",
      "    *     \n",
      "    *     \n",
      "    *     \n",
      "    *     \n",
      "    *     \n",
      "* * * * * \n"
     ]
    }
   ],
   "source": [
    "for i in range(8):\n",
    "    for j in range(5):\n",
    "        if (j == 2) or (i == 0 or i == 7):\n",
    "            print(\"* \", end =\"\")\n",
    "        else:\n",
    "            print(end =\"  \")\n",
    "    print()"
   ]
  },
  {
   "cell_type": "markdown",
   "id": "b7ebeb40",
   "metadata": {},
   "source": [
    "# Pattern 15"
   ]
  },
  {
   "cell_type": "code",
   "execution_count": 17,
   "id": "f9bfa496",
   "metadata": {},
   "outputs": [
    {
     "name": "stdout",
     "output_type": "stream",
     "text": [
      "* * * * * \n",
      "    *     \n",
      "    *     \n",
      "    *     \n",
      "    *     \n",
      "* * *     \n",
      "*   *     \n",
      "* * *     \n"
     ]
    }
   ],
   "source": [
    "for i in range(8):\n",
    "    for j in range(5):\n",
    "        if (j ==2 or (j == 0 and i> 4)) or (i ==0 or ((i == 7 or i ==5)and (j <3))):\n",
    "            print(\"* \", end= \"\")\n",
    "        else:\n",
    "            print(end =\"  \")\n",
    "    print()"
   ]
  },
  {
   "cell_type": "markdown",
   "id": "edbaf8c3",
   "metadata": {},
   "source": [
    "# Pattern 16"
   ]
  },
  {
   "cell_type": "code",
   "execution_count": 18,
   "id": "99a28f44",
   "metadata": {},
   "outputs": [
    {
     "name": "stdout",
     "output_type": "stream",
     "text": [
      "*       * \n",
      "*     *   \n",
      "*   *     \n",
      "* *       \n",
      "*   *     \n",
      "*     *   \n",
      "*       * \n"
     ]
    }
   ],
   "source": [
    "a = 0\n",
    "b = 4\n",
    "\n",
    "for i in range(7):\n",
    "    for j in range(5):\n",
    "        if (j == 0) or (i == j + 2):\n",
    "            print(\"* \", end = \"\")\n",
    "        elif (i == a and j == b) and (j >1):\n",
    "            print(\"* \", end = \"\")\n",
    "            a += 1\n",
    "            b -= 1\n",
    "        else:\n",
    "            print(end = \"  \")\n",
    "    print()\n",
    "        "
   ]
  },
  {
   "cell_type": "markdown",
   "id": "75be9b15",
   "metadata": {},
   "source": [
    "# Pattern 17"
   ]
  },
  {
   "cell_type": "code",
   "execution_count": 19,
   "id": "0bef3004",
   "metadata": {},
   "outputs": [
    {
     "name": "stdout",
     "output_type": "stream",
     "text": [
      "*         \n",
      "*         \n",
      "*         \n",
      "*         \n",
      "*         \n",
      "*         \n",
      "*         \n",
      "* * * * * \n"
     ]
    }
   ],
   "source": [
    "for i in range(8):\n",
    "    for j in range(5):\n",
    "        if j == 0 or (i ==7 and j>0):\n",
    "            print(\"* \", end = \"\")\n",
    "        else:\n",
    "            print(end = \"  \")\n",
    "    print()"
   ]
  },
  {
   "cell_type": "markdown",
   "id": "1ff0d5bb",
   "metadata": {},
   "source": [
    "# Pattern 18"
   ]
  },
  {
   "cell_type": "code",
   "execution_count": 30,
   "id": "a7d9ce1e",
   "metadata": {},
   "outputs": [
    {
     "name": "stdout",
     "output_type": "stream",
     "text": [
      "*           * \n",
      "* *       * * \n",
      "*   *   *   * \n",
      "*     *     * \n",
      "*           * \n",
      "*           * \n",
      "*           * \n",
      "*           * \n"
     ]
    }
   ],
   "source": [
    "for i in range(8):\n",
    "    for j in range(7):\n",
    "        if j == 0 or j==6 or (i == 1 and j == 5) or (i == 2 and j == 4):\n",
    "            print(\"* \", end = \"\")\n",
    "        elif i ==j and j<4:\n",
    "             print(\"* \", end = \"\")\n",
    "        else:\n",
    "            print(end =\"  \")\n",
    "    print()"
   ]
  },
  {
   "cell_type": "markdown",
   "id": "9555ea84",
   "metadata": {},
   "source": [
    "# Pattern 19\n"
   ]
  },
  {
   "cell_type": "code",
   "execution_count": 35,
   "id": "40d5cc8c",
   "metadata": {},
   "outputs": [
    {
     "name": "stdout",
     "output_type": "stream",
     "text": [
      "*         * \n",
      "* *       * \n",
      "*   *     * \n",
      "*     *   * \n",
      "*       * * \n",
      "*         * \n"
     ]
    }
   ],
   "source": [
    "for i in range(6):\n",
    "    for j in range(6):\n",
    "        if (j == 0 or j == 5) or i == j:\n",
    "            print(\"* \", end = \"\")\n",
    "        else :\n",
    "            print(end =\"  \")\n",
    "    print()"
   ]
  },
  {
   "cell_type": "markdown",
   "id": "c69793ed",
   "metadata": {},
   "source": [
    "# Pattern 20"
   ]
  },
  {
   "cell_type": "code",
   "execution_count": 41,
   "id": "c54f43c6",
   "metadata": {},
   "outputs": [
    {
     "name": "stdout",
     "output_type": "stream",
     "text": [
      "  * * *   \n",
      "*       * \n",
      "*       * \n",
      "*       * \n",
      "*       * \n",
      "  * * *   \n"
     ]
    }
   ],
   "source": [
    "for i in range(6):\n",
    "    for j in range(5):\n",
    "        if ((j == 0 or j == 4) and (i!= 0 and i!= 5)) or ((i == 0 or i == 5) and (j>0 and j < 4)):\n",
    "            print(\"* \", end = \"\")\n",
    "        else:\n",
    "            print(end =\"  \")\n",
    "    print()"
   ]
  },
  {
   "cell_type": "markdown",
   "id": "170f6ab2",
   "metadata": {},
   "source": [
    "# Pattern 21"
   ]
  },
  {
   "cell_type": "code",
   "execution_count": 49,
   "id": "cb038dc0",
   "metadata": {},
   "outputs": [
    {
     "name": "stdout",
     "output_type": "stream",
     "text": [
      "* * * *   \n",
      "*       * \n",
      "*       * \n",
      "* * * *   \n",
      "*         \n",
      "*         \n",
      "*         \n"
     ]
    }
   ],
   "source": [
    "for i in range(7):\n",
    "    for j in range(5):\n",
    "        if ((j == 0 )or (j==4 and  (i != 0 and i< 3))) or ((i == 0 or i == 3) and (j != 4)):\n",
    "            print(\"* \", end =\"\")\n",
    "        else:\n",
    "            print(end = \"  \")\n",
    "    print()"
   ]
  },
  {
   "cell_type": "markdown",
   "id": "b1cb86f1",
   "metadata": {},
   "source": [
    "# Pattern 22"
   ]
  },
  {
   "cell_type": "code",
   "execution_count": 56,
   "id": "b82e8cf4",
   "metadata": {},
   "outputs": [
    {
     "name": "stdout",
     "output_type": "stream",
     "text": [
      "  * * * *   \n",
      "*         * \n",
      "*         * \n",
      "*         * \n",
      "* *       * \n",
      "  * * * *   \n",
      "        *   \n"
     ]
    }
   ],
   "source": [
    "for i in range(7):\n",
    "    for j in range(6):\n",
    "        if ((j==0 or j==5) and (i!=0 and i< 5)) or (i== 0 or i== 5)and ((j!=0 and j!=5)):\n",
    "            print(\"* \", end =\"\")\n",
    "        elif (i == 4 and j ==1) or (i == 6 and j == 4):\n",
    "             print(\"* \", end =\"\")\n",
    "\n",
    "        else:\n",
    "            print(end =\"  \")\n",
    "    print()"
   ]
  },
  {
   "cell_type": "markdown",
   "id": "f584780d",
   "metadata": {},
   "source": [
    "# Pattern 23"
   ]
  },
  {
   "cell_type": "code",
   "execution_count": 61,
   "id": "f70b85ab",
   "metadata": {},
   "outputs": [
    {
     "name": "stdout",
     "output_type": "stream",
     "text": [
      "* * * *   \n",
      "*       * \n",
      "*       * \n",
      "* * * *   \n",
      "*       * \n",
      "*       * \n",
      "*       * \n"
     ]
    }
   ],
   "source": [
    "for i in range(7):\n",
    "    for j in range(5):\n",
    "        if ((j == 0 or j == 4)and (i!= 0 and i!= 3)) or ((i==0 or i==3)and (j!= 4)):\n",
    "            print(\"* \", end = \"\")\n",
    "        else:\n",
    "            print(end = \"  \")\n",
    "    print()"
   ]
  },
  {
   "cell_type": "markdown",
   "id": "8dc1c5a5",
   "metadata": {},
   "source": [
    "# Pattern 24"
   ]
  },
  {
   "cell_type": "code",
   "execution_count": 74,
   "id": "ce5d4b9f",
   "metadata": {},
   "outputs": [
    {
     "name": "stdout",
     "output_type": "stream",
     "text": [
      "  * * *   \n",
      "*         \n",
      "*         \n",
      "  * * *   \n",
      "        * \n",
      "        * \n",
      "  * * *   \n"
     ]
    }
   ],
   "source": [
    "for i in range(7):\n",
    "    for j in range(5):\n",
    "        if (((j==0 and i<3)or(j==4 and i>3))and(i!=0 and i!=6))  :\n",
    "            print(\"* \",end = \"\")\n",
    "        elif (i == 0 or i == 3 or i == 6) and j!= 0 and j != 4:\n",
    "            print(\"* \",end = \"\")\n",
    "        else:\n",
    "            print(end =\"  \")\n",
    "    print()"
   ]
  },
  {
   "cell_type": "markdown",
   "id": "170045f7",
   "metadata": {},
   "source": [
    "# Pattern 25"
   ]
  },
  {
   "cell_type": "code",
   "execution_count": 76,
   "id": "4d1d92bd",
   "metadata": {},
   "outputs": [
    {
     "name": "stdout",
     "output_type": "stream",
     "text": [
      "* * * * * \n",
      "    *     \n",
      "    *     \n",
      "    *     \n",
      "    *     \n",
      "    *     \n"
     ]
    }
   ],
   "source": [
    "for i in range(6):\n",
    "    for j in range(5):\n",
    "        if (j == 2) or i == 0:\n",
    "            print(\"* \", end = \"\")\n",
    "        else:\n",
    "            print(end =\"  \")\n",
    "    print()"
   ]
  },
  {
   "cell_type": "markdown",
   "id": "05a25b9a",
   "metadata": {},
   "source": [
    "# Pattern 26"
   ]
  },
  {
   "cell_type": "code",
   "execution_count": 82,
   "id": "09e9b58a",
   "metadata": {},
   "outputs": [
    {
     "name": "stdout",
     "output_type": "stream",
     "text": [
      "*       * \n",
      "*       * \n",
      "*       * \n",
      "*       * \n",
      "*       * \n",
      "  * * *   \n"
     ]
    }
   ],
   "source": [
    "for i in range(6):\n",
    "    for j in range(5):\n",
    "        if ((j==0 or j==4) and i != 5) or i==5 and (j !=0 and j!= 4):\n",
    "            print(\"* \", end = \"\")\n",
    "        else:\n",
    "            print(end = \"  \")\n",
    "    print()"
   ]
  },
  {
   "cell_type": "markdown",
   "id": "1b55b101",
   "metadata": {},
   "source": [
    "# Pattern 27"
   ]
  },
  {
   "cell_type": "code",
   "execution_count": 92,
   "id": "03c7b502",
   "metadata": {},
   "outputs": [
    {
     "name": "stdout",
     "output_type": "stream",
     "text": [
      "*           * \n",
      "  *       *   \n",
      "    *   *     \n",
      "      *       \n"
     ]
    }
   ],
   "source": [
    "row = 0\n",
    "col = 6\n",
    "for i in range(4):\n",
    "    for j in range(7):\n",
    "        if i == j:\n",
    "            print(\"* \",end = \"\")\n",
    "        elif row == i and col == j:\n",
    "            print(\"* \",end = \"\") \n",
    "            row += 1\n",
    "            col -= 1\n",
    "        else:\n",
    "            print(end =\"  \")\n",
    "    print()"
   ]
  },
  {
   "cell_type": "markdown",
   "id": "d99a83d8",
   "metadata": {},
   "source": [
    "# Pattern 28"
   ]
  },
  {
   "cell_type": "code",
   "execution_count": 97,
   "id": "c0c4f3cf",
   "metadata": {},
   "outputs": [
    {
     "name": "stdout",
     "output_type": "stream",
     "text": [
      "*     *     * \n",
      "*   *   *   * \n",
      "* *       * * \n",
      "*           * \n"
     ]
    }
   ],
   "source": [
    "row = 1 \n",
    "col =2\n",
    "for i in range(4):\n",
    "    for j in range(7):\n",
    "        if (j == 0 or j == 6) or i == j-3:\n",
    "            print(\"* \",end = \"\")\n",
    "        elif row == i and col == j:\n",
    "            print(\"* \",end = \"\")\n",
    "            row += 1\n",
    "            col -= 1\n",
    "        else: \n",
    "            print(end =\"  \")\n",
    "    print()"
   ]
  },
  {
   "cell_type": "markdown",
   "id": "41e77e49",
   "metadata": {},
   "source": [
    "# Pattern 29 "
   ]
  },
  {
   "cell_type": "code",
   "execution_count": 100,
   "id": "68347d18",
   "metadata": {},
   "outputs": [
    {
     "name": "stdout",
     "output_type": "stream",
     "text": [
      "*       * \n",
      "  *   *   \n",
      "    *     \n",
      "  *   *   \n",
      "*       * \n"
     ]
    }
   ],
   "source": [
    "row = 0\n",
    "col =4\n",
    "for i in range(5):\n",
    "    for j in range(5):\n",
    "        if i==j and i!=2:\n",
    "            print(\"* \", end =\"\" )\n",
    "        elif row == i and col ==j:\n",
    "            print(\"* \", end =\"\" )\n",
    "            row += 1\n",
    "            col -= 1\n",
    "        else: \n",
    "            print(end = \"  \")\n",
    "    print()"
   ]
  },
  {
   "cell_type": "markdown",
   "id": "ec55875e",
   "metadata": {},
   "source": [
    "# Pattern 30"
   ]
  },
  {
   "cell_type": "code",
   "execution_count": 104,
   "id": "7ca14cfd",
   "metadata": {},
   "outputs": [
    {
     "name": "stdout",
     "output_type": "stream",
     "text": [
      "*       * \n",
      "  *   *   \n",
      "    *     \n",
      "    *     \n",
      "    *     \n"
     ]
    }
   ],
   "source": [
    "row = 0\n",
    "col =4\n",
    "for i in range(5):\n",
    "    for j in range(5):\n",
    "        if (j == 2 and i>1) or (i==j and i <2) or():\n",
    "            print(\"* \", end =\"\")\n",
    "        elif row ==i and col == j:\n",
    "            print(\"* \", end =\"\")\n",
    "            row += 1\n",
    "            col -=1\n",
    "        else:\n",
    "            print(end =\"  \")\n",
    "    print()"
   ]
  },
  {
   "cell_type": "markdown",
   "id": "33a926b2",
   "metadata": {},
   "source": [
    "# Pattern 31"
   ]
  },
  {
   "cell_type": "code",
   "execution_count": 107,
   "id": "5ae888f3",
   "metadata": {},
   "outputs": [
    {
     "name": "stdout",
     "output_type": "stream",
     "text": [
      "* * * * * \n",
      "  *     * \n",
      "    *   * \n",
      "      * * \n",
      "        * \n"
     ]
    }
   ],
   "source": [
    "for i in range(5):\n",
    "    for j in range(5):\n",
    "        if j ==4 or i ==j or i ==0 :\n",
    "            print(\"* \", end =\"\")\n",
    "        else: \n",
    "            print(end =\"  \")\n",
    "    print()"
   ]
  },
  {
   "cell_type": "markdown",
   "id": "d45583f0",
   "metadata": {},
   "source": [
    "# Pattern 32"
   ]
  },
  {
   "cell_type": "code",
   "execution_count": 112,
   "id": "2ea7a0a5",
   "metadata": {},
   "outputs": [
    {
     "name": "stdout",
     "output_type": "stream",
     "text": [
      "* * * * * \n",
      "      *   \n",
      "    *     \n",
      "  *       \n",
      "* * * * * \n"
     ]
    }
   ],
   "source": [
    "row = 1\n",
    "col =3\n",
    "for i in range(5):\n",
    "    for j in range(5):\n",
    "        if i == 0 or i == 4:\n",
    "            print(\"* \", end=\"\")\n",
    "        elif row == i and col ==j :\n",
    "            print(\"* \", end=\"\")\n",
    "            row += 1\n",
    "            col  -= 1\n",
    "        else:\n",
    "            print(end =\"  \")\n",
    "    print()"
   ]
  },
  {
   "cell_type": "markdown",
   "id": "9fa9c990",
   "metadata": {},
   "source": [
    "# Pattern 33 Floyd's Triangle"
   ]
  },
  {
   "cell_type": "code",
   "execution_count": 122,
   "id": "123bbf60",
   "metadata": {},
   "outputs": [
    {
     "name": "stdout",
     "output_type": "stream",
     "text": [
      "enter the no.of rows:4\n",
      "1 \n",
      "2 3 \n",
      "4 5 6 \n",
      "7 8 9 10 \n"
     ]
    }
   ],
   "source": [
    "n = int(input(\"enter the no.of rows:\"))\n",
    "num =1\n",
    "for i in range(n):\n",
    "    for j in range(i+1):\n",
    "        print(num, end = \" \")\n",
    "        num += 1\n",
    "    print()"
   ]
  },
  {
   "cell_type": "markdown",
   "id": "2b20fb96",
   "metadata": {},
   "source": [
    "# Pattern 34"
   ]
  },
  {
   "cell_type": "code",
   "execution_count": 126,
   "id": "2cea410c",
   "metadata": {},
   "outputs": [
    {
     "name": "stdout",
     "output_type": "stream",
     "text": [
      "enter the no.of rows: 6\n",
      "P   \n",
      "P Y   \n",
      "P Y T   \n",
      "P Y T H   \n",
      "P Y T H O   \n",
      "P Y T H O N   \n"
     ]
    }
   ],
   "source": [
    "n = int(input(\"enter the no.of rows: \"))\n",
    "st = \"PYTHON\"\n",
    "for i in range(n):\n",
    "    for j in range(i+1):\n",
    "        print(st[j],end =\" \")\n",
    "    else: \n",
    "        print(end = \"  \")\n",
    "    print()"
   ]
  },
  {
   "cell_type": "code",
   "execution_count": 127,
   "id": "15f59d89",
   "metadata": {},
   "outputs": [
    {
     "data": {
      "text/plain": [
       "3"
      ]
     },
     "execution_count": 127,
     "metadata": {},
     "output_type": "execute_result"
    }
   ],
   "source": [
    "1+2"
   ]
  },
  {
   "cell_type": "markdown",
   "id": "33dbde4e",
   "metadata": {},
   "source": [
    "# Pattern 35"
   ]
  },
  {
   "cell_type": "code",
   "execution_count": 134,
   "id": "985e5da9",
   "metadata": {},
   "outputs": [
    {
     "name": "stdout",
     "output_type": "stream",
     "text": [
      "1 2 3 4 5 \n",
      "1 2 3 4 \n",
      "1 2 3 \n",
      "1 2 \n",
      "1 \n",
      "\n",
      "5 5 5 5 5 \n",
      "4 4 4 4 \n",
      "3 3 3 \n",
      "2 2 \n",
      "1 \n"
     ]
    }
   ],
   "source": [
    "for i in range(5,0,-1):\n",
    "    for j in range(1,i+1):\n",
    "        print(j,end =\" \")\n",
    "    print()\n",
    "print()\n",
    "    \n",
    "for i in range(5,0,-1):\n",
    "    for j in range(i):\n",
    "        print(i, end = \" \")\n",
    "    print()\n",
    "        "
   ]
  },
  {
   "cell_type": "markdown",
   "id": "84aa4728",
   "metadata": {},
   "source": [
    "# Pattern 36"
   ]
  },
  {
   "cell_type": "code",
   "execution_count": 149,
   "id": "6251ef9f",
   "metadata": {},
   "outputs": [
    {
     "name": "stdout",
     "output_type": "stream",
     "text": [
      "      *       \n",
      "    *   *     \n",
      "  *       *   \n",
      "* * * * * * * \n",
      "\n",
      "      *       \n",
      "    *   *     \n",
      "  *       *   \n",
      "*   *   *   * \n"
     ]
    }
   ],
   "source": [
    "row = 1 ;col = 2\n",
    "for i in range(4):\n",
    "    for j in range(7):\n",
    "        if i== j - 3 or i == 3:\n",
    "            print(\"* \", end = \"\")\n",
    "        elif row == i and col == j:\n",
    "            print(\"* \", end = \"\")\n",
    "            row += 1\n",
    "            col -= 1\n",
    "        else:\n",
    "            print(end =\"  \")\n",
    "    print()\n",
    "print()\n",
    "\n",
    "row_2 =1\n",
    "col_2 = 2\n",
    "for i in range(4):\n",
    "    for j in range(7):\n",
    "        if i == j-3 or (i == 3 and j%2==0) :\n",
    "            print(\"* \",end = \"\")\n",
    "        elif row_2 == i and col_2 == j :\n",
    "            print(\"* \",end = \"\")\n",
    "            row_2+= 1\n",
    "            col_2 -= 1\n",
    "        else: \n",
    "            print(end = \"  \")\n",
    "    print()\n",
    "    "
   ]
  },
  {
   "cell_type": "markdown",
   "id": "09152761",
   "metadata": {},
   "source": [
    "#  Pattern 37"
   ]
  },
  {
   "cell_type": "code",
   "execution_count": 153,
   "id": "8f98b9ef",
   "metadata": {},
   "outputs": [
    {
     "name": "stdout",
     "output_type": "stream",
     "text": [
      "* \n",
      "* * \n",
      "* * * \n",
      "* * * * \n",
      "\n",
      "enter the no.of rows: 4\n",
      "* \n",
      "* * \n",
      "* * * \n",
      "* * * * \n"
     ]
    }
   ],
   "source": [
    "for i in range(4):\n",
    "    for j in range(i+1):\n",
    "        print(\"* \", end = \"\")\n",
    "    print()\n",
    "    \n",
    "print()\n",
    "\n",
    "n = int(input(\"enter the no.of rows: \"))\n",
    "row = 0\n",
    "while(row < n):\n",
    "    col =0\n",
    "    while(col< row+1):\n",
    "        print(\"* \", end = \"\")\n",
    "        col+=1\n",
    "    print()\n",
    "    row += 1\n"
   ]
  },
  {
   "cell_type": "markdown",
   "id": "53624ca6",
   "metadata": {},
   "source": [
    "# Pattern 38"
   ]
  },
  {
   "cell_type": "code",
   "execution_count": 163,
   "id": "1893c7e9",
   "metadata": {},
   "outputs": [
    {
     "name": "stdout",
     "output_type": "stream",
     "text": [
      "enter the no.of rows: 5\n",
      "    * \n",
      "   * * \n",
      "  * * * \n",
      " * * * * \n",
      "* * * * * \n",
      "\n",
      "    * \n",
      "   * * \n",
      "  * * * \n",
      " * * * * \n",
      "* * * * * \n"
     ]
    }
   ],
   "source": [
    "n = int(input(\"enter the no.of rows: \"))\n",
    "for i in range(n):\n",
    "    for j in range(n-1-i,0,-1):\n",
    "        print(end= \" \")\n",
    "    for j in range(i+1):\n",
    "        print(\"* \",end =\"\")\n",
    "    print()\n",
    "\n",
    "print()\n",
    "\n",
    "i =0\n",
    "while(i<n):\n",
    "    j =0\n",
    "    while(n-i-1 > j):\n",
    "        j+= 1\n",
    "        print(end =\" \")\n",
    "    j =0\n",
    "    while(j < i+1):\n",
    "        print(\"* \", end =\"\")\n",
    "        j+=1\n",
    "    i += 1\n",
    "    print()\n",
    "        "
   ]
  },
  {
   "cell_type": "markdown",
   "id": "91f711d9",
   "metadata": {},
   "source": [
    "#  Python 39"
   ]
  },
  {
   "cell_type": "code",
   "execution_count": 172,
   "id": "b8c84e14",
   "metadata": {},
   "outputs": [
    {
     "name": "stdout",
     "output_type": "stream",
     "text": [
      "    *     \n",
      "  *   *   \n",
      "*       * \n",
      "  *   *   \n",
      "    *     \n"
     ]
    }
   ],
   "source": [
    "# import math\n",
    "# n = int(input(\"enter the no.of rows: \"))\n",
    "# row = 1\n",
    "# col =(math.ceil((2*n -1)/2))-2\n",
    "\n",
    "# for i in range(n):\n",
    "#     for j in range(2*n-1):\n",
    "#         if i == j-((math.ceil((2*n -1)/2))-1):\n",
    "#             print(\"* \", end = \"\")\n",
    "#         elif j == col and i == row:\n",
    "#             print(\"* \", end = \"\")\n",
    "#             row +=1\n",
    "#             col-= 1\n",
    "#         else: print(end =\"  \")\n",
    "#     print()\n",
    "\n",
    "for i in range(5):\n",
    "    for j in range(5):\n",
    "        if i + j == 2 or j-i ==2 or i -j ==2 or i+j == 6:\n",
    "            print(\"* \", end=\"\")\n",
    "        else:\n",
    "            print(end =\"  \")\n",
    "    print()"
   ]
  },
  {
   "cell_type": "code",
   "execution_count": 177,
   "id": "d6b89149",
   "metadata": {},
   "outputs": [
    {
     "name": "stdout",
     "output_type": "stream",
     "text": [
      "  * *   * *   \n",
      "*     *     * \n",
      "*           * \n",
      "  *       *   \n",
      "    *   *     \n",
      "      *       \n"
     ]
    }
   ],
   "source": [
    "row = 2\n",
    "col = 6\n",
    "for i in range(6):\n",
    "    for j in range(7):\n",
    "        if (i==0 and j %3 != 0) or (i ==1 and j %3 ==0) or(i -j ==2):\n",
    "            print(\"* \",end =\"\")\n",
    "        elif i == row and col == j:\n",
    "            print(\"* \",end =\"\")\n",
    "            row +=1\n",
    "            col -= 1\n",
    "        else:\n",
    "            print(end =\"  \")\n",
    "    print()"
   ]
  },
  {
   "cell_type": "code",
   "execution_count": 185,
   "id": "694bbbd0",
   "metadata": {},
   "outputs": [
    {
     "name": "stdout",
     "output_type": "stream",
     "text": [
      "enter the no.of rows: 7\n",
      "* * * * * * * \n",
      " * * * * * * \n",
      "  * * * * * \n",
      "   * * * * \n",
      "    * * * \n",
      "     * * \n",
      "      * \n"
     ]
    }
   ],
   "source": [
    "n = int(input(\"enter the no.of rows: \"))\n",
    "for i in range(n,0,-1):\n",
    "    for j in range(n - i ):\n",
    "        print(end = \" \")\n",
    "    for j in range(i):\n",
    "        print(\"* \",end =\"\")\n",
    "    print()"
   ]
  },
  {
   "cell_type": "code",
   "execution_count": 190,
   "id": "b0ccf8fe",
   "metadata": {},
   "outputs": [
    {
     "name": "stdout",
     "output_type": "stream",
     "text": [
      "[0, 1, 2, 3, 4, 5, 6]\n",
      "range(7, 0, -1)\n"
     ]
    }
   ],
   "source": [
    "\n",
    "l = list(range(7))\n",
    "print(l)\n",
    "print(range(7,0,-1))"
   ]
  },
  {
   "cell_type": "code",
   "execution_count": null,
   "id": "39e8b67f",
   "metadata": {},
   "outputs": [],
   "source": []
  }
 ],
 "metadata": {
  "kernelspec": {
   "display_name": "Python 3 (ipykernel)",
   "language": "python",
   "name": "python3"
  },
  "language_info": {
   "codemirror_mode": {
    "name": "ipython",
    "version": 3
   },
   "file_extension": ".py",
   "mimetype": "text/x-python",
   "name": "python",
   "nbconvert_exporter": "python",
   "pygments_lexer": "ipython3",
   "version": "3.9.7"
  }
 },
 "nbformat": 4,
 "nbformat_minor": 5
}
